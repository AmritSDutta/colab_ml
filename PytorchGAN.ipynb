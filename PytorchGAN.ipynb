{
  "nbformat": 4,
  "nbformat_minor": 0,
  "metadata": {
    "colab": {
      "provenance": [],
      "authorship_tag": "ABX9TyOHdbLdXcS5WrIKQQRZgM0F",
      "include_colab_link": true
    },
    "kernelspec": {
      "name": "python3",
      "display_name": "Python 3"
    },
    "language_info": {
      "name": "python"
    }
  },
  "cells": [
    {
      "cell_type": "markdown",
      "metadata": {
        "id": "view-in-github",
        "colab_type": "text"
      },
      "source": [
        "<a href=\"https://colab.research.google.com/github/AmritSDutta/colab_ml/blob/main/PytorchGAN.ipynb\" target=\"_parent\"><img src=\"https://colab.research.google.com/assets/colab-badge.svg\" alt=\"Open In Colab\"/></a>"
      ]
    },
    {
      "cell_type": "code",
      "execution_count": 1,
      "metadata": {
        "id": "ACUCs4PL_8eN"
      },
      "outputs": [],
      "source": [
        "import torch; torch.manual_seed(0)\n",
        "import torch.nn as nn\n",
        "import torch.nn.functional as F\n",
        "import torch.utils\n",
        "import torch.distributions\n",
        "import torchvision\n",
        "import numpy as np\n",
        "import matplotlib.pyplot as plt; plt.rcParams['figure.dpi'] = 200\n",
        "import random"
      ]
    },
    {
      "cell_type": "markdown",
      "source": [
        "Check MultivariateNormal"
      ],
      "metadata": {
        "id": "HIH4pZ4jdazf"
      }
    },
    {
      "cell_type": "code",
      "source": [
        "def set_seed(seed):\n",
        "    torch.manual_seed(seed)\n",
        "    np.random.seed(seed)\n",
        "    random.seed(seed)\n",
        "\n",
        "    if torch.cuda.is_available():\n",
        "        torch.cuda.manual_seed(seed)\n",
        "        torch.cuda.manual_seed_all(seed)  # if using multi-GPU\n",
        "\n",
        "    # Ensures deterministic behavior\n",
        "    torch.backends.cudnn.deterministic = True\n",
        "    torch.backends.cudnn.benchmark = False\n"
      ],
      "metadata": {
        "id": "vX7HNoZCcK6m"
      },
      "execution_count": 2,
      "outputs": []
    },
    {
      "cell_type": "code",
      "source": [
        "set_seed(42)"
      ],
      "metadata": {
        "id": "lWJLNePScM0u"
      },
      "execution_count": 3,
      "outputs": []
    },
    {
      "cell_type": "code",
      "source": [
        "device = 'cuda' if torch.accelerator.is_available() else 'cpu'\n",
        "latent_dimension = 49\n",
        "batch_size=8184\n",
        "print(device)"
      ],
      "metadata": {
        "id": "pWs3Qwl9AFrr",
        "colab": {
          "base_uri": "https://localhost:8080/"
        },
        "outputId": "1db2038e-793a-4dbf-ef30-a12aafa23363"
      },
      "execution_count": 46,
      "outputs": [
        {
          "output_type": "stream",
          "name": "stdout",
          "text": [
            "cuda\n"
          ]
        }
      ]
    },
    {
      "cell_type": "code",
      "source": [
        "data = torch.utils.data.DataLoader(\n",
        "        torchvision.datasets.FashionMNIST('./data',\n",
        "               transform=torchvision.transforms.ToTensor(),\n",
        "               download=True),\n",
        "        batch_size=batch_size,\n",
        "        shuffle=True,  drop_last=True)"
      ],
      "metadata": {
        "id": "bj1mbSGt2rvg"
      },
      "execution_count": 47,
      "outputs": []
    },
    {
      "cell_type": "code",
      "source": [
        "train_dataset = torchvision.datasets.FashionMNIST(root='data', train=True, transform=torchvision.transforms.ToTensor())\n",
        "\n",
        "train_dataloader = torch.utils.data.DataLoader(\n",
        "        train_dataset, batch_size=batch_size, shuffle=True, drop_last=True)"
      ],
      "metadata": {
        "id": "W8AhBtCl2YFI"
      },
      "execution_count": 48,
      "outputs": []
    },
    {
      "cell_type": "code",
      "source": [
        "test_dataset = torchvision.datasets.FashionMNIST(root='data', train=False, transform=torchvision.transforms.ToTensor())\n",
        "\n",
        "test_dataloader = torch.utils.data.DataLoader(\n",
        "        test_dataset, batch_size=batch_size, shuffle=True)"
      ],
      "metadata": {
        "id": "hmFU9qVv2V9o"
      },
      "execution_count": 49,
      "outputs": []
    },
    {
      "cell_type": "code",
      "source": [
        "class Discriminator(nn.Module):\n",
        "    def __init__(self):\n",
        "        super(Discriminator, self).__init__()\n",
        "        self.first = nn.Sequential(\n",
        "            nn.Conv2d(1, 32, kernel_size=3, stride=2, padding=1),\n",
        "            nn.AvgPool2d(kernel_size=3, stride=2, padding=1),\n",
        "            nn.LeakyReLU(),\n",
        "            nn.Conv2d(32, 64, kernel_size=3, stride=2, padding=1),\n",
        "            nn.AvgPool2d(kernel_size=3, stride=2, padding=1),\n",
        "            nn.LeakyReLU()\n",
        "        )\n",
        "\n",
        "        self.classifier = nn.Sequential(\n",
        "            nn.Linear(256, 64),\n",
        "            nn.LeakyReLU(),\n",
        "            nn.Linear(64, 1),\n",
        "            nn.Sigmoid()\n",
        "        )\n",
        "\n",
        "\n",
        "    def forward(self, x):\n",
        "            x= self.first(x)\n",
        "            x = x.reshape((-1, 256))\n",
        "            logit = self.classifier(x)\n",
        "            return logit"
      ],
      "metadata": {
        "id": "-VMwdJ58AV3F"
      },
      "execution_count": 8,
      "outputs": []
    },
    {
      "cell_type": "code",
      "source": [
        "discrim = Discriminator()\n",
        "print(discrim)\n",
        "logit = discrim(torch.randn(1,1,28,28))\n",
        "print(logit)"
      ],
      "metadata": {
        "id": "bizbq8UyJVmB",
        "colab": {
          "base_uri": "https://localhost:8080/"
        },
        "outputId": "2e0f2e3d-7761-456f-c1d8-137e88496d79"
      },
      "execution_count": 9,
      "outputs": [
        {
          "output_type": "stream",
          "name": "stdout",
          "text": [
            "Discriminator(\n",
            "  (first): Sequential(\n",
            "    (0): Conv2d(1, 32, kernel_size=(3, 3), stride=(2, 2), padding=(1, 1))\n",
            "    (1): AvgPool2d(kernel_size=3, stride=2, padding=1)\n",
            "    (2): LeakyReLU(negative_slope=0.01)\n",
            "    (3): Conv2d(32, 64, kernel_size=(3, 3), stride=(2, 2), padding=(1, 1))\n",
            "    (4): AvgPool2d(kernel_size=3, stride=2, padding=1)\n",
            "    (5): LeakyReLU(negative_slope=0.01)\n",
            "  )\n",
            "  (classifier): Sequential(\n",
            "    (0): Linear(in_features=256, out_features=64, bias=True)\n",
            "    (1): LeakyReLU(negative_slope=0.01)\n",
            "    (2): Linear(in_features=64, out_features=1, bias=True)\n",
            "    (3): Sigmoid()\n",
            "  )\n",
            ")\n",
            "tensor([[0.4922]], grad_fn=<SigmoidBackward0>)\n"
          ]
        }
      ]
    },
    {
      "cell_type": "code",
      "source": [
        "class Generator(nn.Module):\n",
        "    def __init__(self, latent_dim):\n",
        "        super(Generator, self).__init__()\n",
        "        self.first = nn.Sequential(\n",
        "            nn.Linear(latent_dim, 392),\n",
        "            nn.LeakyReLU(),\n",
        "            nn.Linear(392, 784),\n",
        "            nn.Tanh()\n",
        "        )\n",
        "\n",
        "    def forward(self, x):\n",
        "        x= self.first(x)\n",
        "        decoded = x\n",
        "        return decoded.reshape((-1, 1, 28, 28))\n"
      ],
      "metadata": {
        "id": "V6u2XE3qBTZk"
      },
      "execution_count": 10,
      "outputs": []
    },
    {
      "cell_type": "code",
      "source": [
        "genee = Generator(latent_dimension)\n",
        "print(genee)\n",
        "generated = genee(torch.randn_like( torch.Tensor(latent_dimension)))\n",
        "print(generated.shape)\n",
        "\n",
        "fig, axes = plt.subplots(1, 1, figsize=(3, 1))\n",
        "axes.imshow(generated.cpu().detach().numpy().squeeze(), cmap='gray')\n",
        "axes.axis('off')"
      ],
      "metadata": {
        "id": "awdnPPwxKghD",
        "colab": {
          "base_uri": "https://localhost:8080/",
          "height": 385
        },
        "outputId": "e8476c12-8dee-4b55-e280-eaeda2cf22a7"
      },
      "execution_count": 45,
      "outputs": [
        {
          "output_type": "stream",
          "name": "stdout",
          "text": [
            "Generator(\n",
            "  (first): Sequential(\n",
            "    (0): Linear(in_features=49, out_features=392, bias=True)\n",
            "    (1): LeakyReLU(negative_slope=0.01)\n",
            "    (2): Linear(in_features=392, out_features=784, bias=True)\n",
            "    (3): Tanh()\n",
            "  )\n",
            ")\n",
            "torch.Size([1, 1, 28, 28])\n"
          ]
        },
        {
          "output_type": "execute_result",
          "data": {
            "text/plain": [
              "(np.float64(-0.5), np.float64(27.5), np.float64(27.5), np.float64(-0.5))"
            ]
          },
          "metadata": {},
          "execution_count": 45
        },
        {
          "output_type": "display_data",
          "data": {
            "text/plain": [
              "<Figure size 600x200 with 1 Axes>"
            ],
            "image/png": "[encoded data removed]"
          },
          "metadata": {}
        }
      ]
    },
    {
      "cell_type": "code",
      "source": [
        "class Gan(nn.Module):\n",
        "    def __init__(self, latent_dim):\n",
        "        super(Gan, self).__init__()\n",
        "        self.generator = Generator(latent_dimension)\n",
        "        self.discriminator = Discriminator()\n",
        "\n",
        "    def forward(self, x):\n",
        "        generated = self.generator(x)\n",
        "        predicted = self.discriminator(generated) # we are using only the sample generated from mu and sigma , not original image\n",
        "        return predicted\n"
      ],
      "metadata": {
        "id": "h4_s0IGWCEb9"
      },
      "execution_count": 12,
      "outputs": []
    },
    {
      "cell_type": "code",
      "source": [
        "def prepare_data_for_discrimator_training(generator_model: nn.Module, X, y):\n",
        "    X = X.to(device)\n",
        "    yy = torch.ones(batch_size, 1).to(device)\n",
        "\n",
        "    input_to_generator = torch.randn(batch_size, latent_dimension).to(device)\n",
        "    output_from_generator = generator_model(input_to_generator).to(device)\n",
        "    level_for_generator_output = torch.zeros(batch_size, 1).to(device)\n",
        "\n",
        "    # Concatenate real and fake images\n",
        "    combined_X = torch.cat((X, output_from_generator), dim=0)\n",
        "    # Concatenate real and fake labels\n",
        "    combined_yy = torch.cat((yy, level_for_generator_output), dim=0)\n",
        "    #X.append(output_from_generator)\n",
        "    #yy.append(level_for_generator_output)\n",
        "\n",
        "    # Generate a permutation of indices\n",
        "    indices = torch.randperm(combined_X.size(0))\n",
        "\n",
        "    # Apply permutation to both tensors\n",
        "    x_shuffled = combined_X[indices]\n",
        "    y_shuffled = combined_yy[indices]\n",
        "    return x_shuffled, y_shuffled, input_to_generator, level_for_generator_output\n"
      ],
      "metadata": {
        "id": "smwdKfYV7T3S"
      },
      "execution_count": 13,
      "outputs": []
    },
    {
      "cell_type": "code",
      "source": [
        "set_seed(42)"
      ],
      "metadata": {
        "id": "hhcGjVCgeZCe"
      },
      "execution_count": 14,
      "outputs": []
    },
    {
      "cell_type": "code",
      "source": [
        "def train(model, data, epochs=5):\n",
        "    opt = torch.optim.Adam(model.parameters(), lr=1e-4, weight_decay=0.0001)\n",
        "    loss_fn = nn.BCELoss()\n",
        "    model.to(device)\n",
        "    print(f'total data: {len(data)}')\n",
        "    print(f'batch size: {batch_size}')\n",
        "\n",
        "    for epoch in range(epochs):\n",
        "        for index, (x, y) in enumerate(data):\n",
        "            model.train()\n",
        "            model.generator.eval()\n",
        "            model.discriminator.train()\n",
        "            x_shuffled, y_shuffled, noise, noise_levels = prepare_data_for_discrimator_training(model.generator,x,y)\n",
        "            output_from_discriminator = model.discriminator(x_shuffled)\n",
        "            opt.zero_grad()\n",
        "            discriminator_loss = loss_fn(output_from_discriminator, y_shuffled)\n",
        "            discriminator_loss.backward()\n",
        "            opt.step()\n",
        "            model.eval()\n",
        "\n",
        "            model.train()\n",
        "            model.generator.train()\n",
        "            model.discriminator.eval()\n",
        "            output_from_gan = model(noise)\n",
        "            opt.zero_grad()\n",
        "            gan_loss = loss_fn(output_from_gan, torch.zeros(batch_size, 1).to(device))\n",
        "            gan_loss.backward()\n",
        "            opt.step()\n",
        "            model.eval()\n",
        "            print(f'GAN batch: {index} , batch size:  {len(x)}, discriminator loss: {discriminator_loss},  gan loss: {gan_loss} ')\n",
        "\n",
        "\n",
        "        print(f'\\n ## Batch final Dicriminator epoch: {epoch} , loss: {discriminator_loss}, GAN loss: {gan_loss} \\n')\n",
        "\n",
        "\n",
        "    model.generator.eval()\n",
        "    model.discriminator.eval()\n",
        "    return model"
      ],
      "metadata": {
        "id": "b9WKPD5AAozM"
      },
      "execution_count": 32,
      "outputs": []
    },
    {
      "cell_type": "code",
      "source": [
        "set_seed(42)\n",
        "latent_dims = 49\n",
        "gan_model = Gan(latent_dimension).to(device)\n",
        "trained_gan = train(gan_model, data, 15)"
      ],
      "metadata": {
        "colab": {
          "base_uri": "https://localhost:8080/"
        },
        "id": "rxyti8G9Aska",
        "outputId": "6f77a6f8-394a-4915-eb31-449a7a56c404"
      },
      "execution_count": 50,
      "outputs": [
        {
          "output_type": "stream",
          "name": "stdout",
          "text": [
            "total data: 7\n",
            "batch size: 8184\n",
            "GAN batch: 0 , batch size:  8184, discriminator loss: 0.6924477219581604,  gan loss: 0.6761325597763062 \n",
            "GAN batch: 1 , batch size:  8184, discriminator loss: 0.6914271116256714,  gan loss: 0.6742154359817505 \n",
            "GAN batch: 2 , batch size:  8184, discriminator loss: 0.6906837224960327,  gan loss: 0.6723543405532837 \n",
            "GAN batch: 3 , batch size:  8184, discriminator loss: 0.6899937987327576,  gan loss: 0.6705058813095093 \n",
            "GAN batch: 4 , batch size:  8184, discriminator loss: 0.6893044710159302,  gan loss: 0.6686479449272156 \n",
            "GAN batch: 5 , batch size:  8184, discriminator loss: 0.6886362433433533,  gan loss: 0.6667891144752502 \n",
            "GAN batch: 6 , batch size:  8184, discriminator loss: 0.6879090666770935,  gan loss: 0.6649323105812073 \n",
            "\n",
            " ## Batch final Dicriminator epoch: 0 , loss: 0.6879090666770935, GAN loss: 0.6649323105812073 \n",
            "\n",
            "GAN batch: 0 , batch size:  8184, discriminator loss: 0.6872326135635376,  gan loss: 0.6631740927696228 \n",
            "GAN batch: 1 , batch size:  8184, discriminator loss: 0.6865894198417664,  gan loss: 0.6614726185798645 \n",
            "GAN batch: 2 , batch size:  8184, discriminator loss: 0.6859169006347656,  gan loss: 0.6597765684127808 \n",
            "GAN batch: 3 , batch size:  8184, discriminator loss: 0.6852477788925171,  gan loss: 0.658125102519989 \n",
            "GAN batch: 4 , batch size:  8184, discriminator loss: 0.6843904256820679,  gan loss: 0.6564656496047974 \n",
            "GAN batch: 5 , batch size:  8184, discriminator loss: 0.683716893196106,  gan loss: 0.6548038125038147 \n",
            "GAN batch: 6 , batch size:  8184, discriminator loss: 0.6828920841217041,  gan loss: 0.6531253457069397 \n",
            "\n",
            " ## Batch final Dicriminator epoch: 1 , loss: 0.6828920841217041, GAN loss: 0.6531253457069397 \n",
            "\n",
            "GAN batch: 0 , batch size:  8184, discriminator loss: 0.6820362210273743,  gan loss: 0.6514298319816589 \n",
            "GAN batch: 1 , batch size:  8184, discriminator loss: 0.6811081767082214,  gan loss: 0.6496898531913757 \n",
            "GAN batch: 2 , batch size:  8184, discriminator loss: 0.6800470352172852,  gan loss: 0.6478968262672424 \n",
            "GAN batch: 3 , batch size:  8184, discriminator loss: 0.6789871454238892,  gan loss: 0.6460350751876831 \n",
            "GAN batch: 4 , batch size:  8184, discriminator loss: 0.677909791469574,  gan loss: 0.6440424919128418 \n",
            "GAN batch: 5 , batch size:  8184, discriminator loss: 0.6766777038574219,  gan loss: 0.6419663429260254 \n",
            "GAN batch: 6 , batch size:  8184, discriminator loss: 0.6754544973373413,  gan loss: 0.6399001479148865 \n",
            "\n",
            " ## Batch final Dicriminator epoch: 2 , loss: 0.6754544973373413, GAN loss: 0.6399001479148865 \n",
            "\n",
            "GAN batch: 0 , batch size:  8184, discriminator loss: 0.6741308569908142,  gan loss: 0.6378926634788513 \n",
            "GAN batch: 1 , batch size:  8184, discriminator loss: 0.6726427674293518,  gan loss: 0.6359310150146484 \n",
            "GAN batch: 2 , batch size:  8184, discriminator loss: 0.6714911460876465,  gan loss: 0.6339218616485596 \n",
            "GAN batch: 3 , batch size:  8184, discriminator loss: 0.6699105501174927,  gan loss: 0.6317690014839172 \n",
            "GAN batch: 4 , batch size:  8184, discriminator loss: 0.6683545112609863,  gan loss: 0.6294782757759094 \n",
            "GAN batch: 5 , batch size:  8184, discriminator loss: 0.6665633916854858,  gan loss: 0.6270021796226501 \n",
            "GAN batch: 6 , batch size:  8184, discriminator loss: 0.6643173098564148,  gan loss: 0.624264121055603 \n",
            "\n",
            " ## Batch final Dicriminator epoch: 3 , loss: 0.6643173098564148, GAN loss: 0.624264121055603 \n",
            "\n",
            "GAN batch: 0 , batch size:  8184, discriminator loss: 0.6621947884559631,  gan loss: 0.6212581992149353 \n",
            "GAN batch: 1 , batch size:  8184, discriminator loss: 0.6595700979232788,  gan loss: 0.617865264415741 \n",
            "GAN batch: 2 , batch size:  8184, discriminator loss: 0.6570156216621399,  gan loss: 0.6141461133956909 \n",
            "GAN batch: 3 , batch size:  8184, discriminator loss: 0.6540457010269165,  gan loss: 0.6101206541061401 \n",
            "GAN batch: 4 , batch size:  8184, discriminator loss: 0.6507432460784912,  gan loss: 0.6058536171913147 \n",
            "GAN batch: 5 , batch size:  8184, discriminator loss: 0.6474379301071167,  gan loss: 0.6013776063919067 \n",
            "GAN batch: 6 , batch size:  8184, discriminator loss: 0.6440577507019043,  gan loss: 0.5965641736984253 \n",
            "\n",
            " ## Batch final Dicriminator epoch: 4 , loss: 0.6440577507019043, GAN loss: 0.5965641736984253 \n",
            "\n",
            "GAN batch: 0 , batch size:  8184, discriminator loss: 0.6398830413818359,  gan loss: 0.5914047956466675 \n",
            "GAN batch: 1 , batch size:  8184, discriminator loss: 0.6359696388244629,  gan loss: 0.5857396721839905 \n",
            "GAN batch: 2 , batch size:  8184, discriminator loss: 0.6314095854759216,  gan loss: 0.5795310139656067 \n",
            "GAN batch: 3 , batch size:  8184, discriminator loss: 0.6266366839408875,  gan loss: 0.5728756189346313 \n",
            "GAN batch: 4 , batch size:  8184, discriminator loss: 0.6214256286621094,  gan loss: 0.5655987858772278 \n",
            "GAN batch: 5 , batch size:  8184, discriminator loss: 0.6159526705741882,  gan loss: 0.5572965741157532 \n",
            "GAN batch: 6 , batch size:  8184, discriminator loss: 0.6095874905586243,  gan loss: 0.5483867526054382 \n",
            "\n",
            " ## Batch final Dicriminator epoch: 5 , loss: 0.6095874905586243, GAN loss: 0.5483867526054382 \n",
            "\n",
            "GAN batch: 0 , batch size:  8184, discriminator loss: 0.6032765507698059,  gan loss: 0.5387505888938904 \n",
            "GAN batch: 1 , batch size:  8184, discriminator loss: 0.5961858630180359,  gan loss: 0.5281908512115479 \n",
            "GAN batch: 2 , batch size:  8184, discriminator loss: 0.5889402031898499,  gan loss: 0.5169245004653931 \n",
            "GAN batch: 3 , batch size:  8184, discriminator loss: 0.5810466408729553,  gan loss: 0.5048502087593079 \n",
            "GAN batch: 4 , batch size:  8184, discriminator loss: 0.5723024010658264,  gan loss: 0.4917718172073364 \n",
            "GAN batch: 5 , batch size:  8184, discriminator loss: 0.5634109377861023,  gan loss: 0.47806552052497864 \n",
            "GAN batch: 6 , batch size:  8184, discriminator loss: 0.5543985366821289,  gan loss: 0.4633544981479645 \n",
            "\n",
            " ## Batch final Dicriminator epoch: 6 , loss: 0.5543985366821289, GAN loss: 0.4633544981479645 \n",
            "\n",
            "GAN batch: 0 , batch size:  8184, discriminator loss: 0.5441051125526428,  gan loss: 0.44787096977233887 \n",
            "GAN batch: 1 , batch size:  8184, discriminator loss: 0.5335898995399475,  gan loss: 0.4317082166671753 \n",
            "GAN batch: 2 , batch size:  8184, discriminator loss: 0.5230395793914795,  gan loss: 0.41493046283721924 \n",
            "GAN batch: 3 , batch size:  8184, discriminator loss: 0.5117778182029724,  gan loss: 0.39772284030914307 \n",
            "GAN batch: 4 , batch size:  8184, discriminator loss: 0.4994359612464905,  gan loss: 0.37972453236579895 \n",
            "GAN batch: 5 , batch size:  8184, discriminator loss: 0.4877717196941376,  gan loss: 0.36167341470718384 \n",
            "GAN batch: 6 , batch size:  8184, discriminator loss: 0.47534406185150146,  gan loss: 0.34323206543922424 \n",
            "\n",
            " ## Batch final Dicriminator epoch: 7 , loss: 0.47534406185150146, GAN loss: 0.34323206543922424 \n",
            "\n",
            "GAN batch: 0 , batch size:  8184, discriminator loss: 0.4629289209842682,  gan loss: 0.324582576751709 \n",
            "GAN batch: 1 , batch size:  8184, discriminator loss: 0.45025205612182617,  gan loss: 0.3060126006603241 \n",
            "GAN batch: 2 , batch size:  8184, discriminator loss: 0.4379099905490875,  gan loss: 0.2871231436729431 \n",
            "GAN batch: 3 , batch size:  8184, discriminator loss: 0.4245446026325226,  gan loss: 0.26878392696380615 \n",
            "GAN batch: 4 , batch size:  8184, discriminator loss: 0.41228795051574707,  gan loss: 0.25068211555480957 \n",
            "GAN batch: 5 , batch size:  8184, discriminator loss: 0.3986656963825226,  gan loss: 0.23298843204975128 \n",
            "GAN batch: 6 , batch size:  8184, discriminator loss: 0.38634636998176575,  gan loss: 0.21589775383472443 \n",
            "\n",
            " ## Batch final Dicriminator epoch: 8 , loss: 0.38634636998176575, GAN loss: 0.21589775383472443 \n",
            "\n",
            "GAN batch: 0 , batch size:  8184, discriminator loss: 0.3750250041484833,  gan loss: 0.1995282769203186 \n",
            "GAN batch: 1 , batch size:  8184, discriminator loss: 0.36189499497413635,  gan loss: 0.1838875263929367 \n",
            "GAN batch: 2 , batch size:  8184, discriminator loss: 0.3491998016834259,  gan loss: 0.1689838021993637 \n",
            "GAN batch: 3 , batch size:  8184, discriminator loss: 0.3383117914199829,  gan loss: 0.15492671728134155 \n",
            "GAN batch: 4 , batch size:  8184, discriminator loss: 0.3271992802619934,  gan loss: 0.14213047921657562 \n",
            "GAN batch: 5 , batch size:  8184, discriminator loss: 0.31624144315719604,  gan loss: 0.12975406646728516 \n",
            "GAN batch: 6 , batch size:  8184, discriminator loss: 0.3060210347175598,  gan loss: 0.11864791065454483 \n",
            "\n",
            " ## Batch final Dicriminator epoch: 9 , loss: 0.3060210347175598, GAN loss: 0.11864791065454483 \n",
            "\n",
            "GAN batch: 0 , batch size:  8184, discriminator loss: 0.29583004117012024,  gan loss: 0.10826896876096725 \n",
            "GAN batch: 1 , batch size:  8184, discriminator loss: 0.28590598702430725,  gan loss: 0.09884566068649292 \n",
            "GAN batch: 2 , batch size:  8184, discriminator loss: 0.2764732539653778,  gan loss: 0.09024029970169067 \n",
            "GAN batch: 3 , batch size:  8184, discriminator loss: 0.26743367314338684,  gan loss: 0.08238834887742996 \n",
            "GAN batch: 4 , batch size:  8184, discriminator loss: 0.25843867659568787,  gan loss: 0.07529758661985397 \n",
            "GAN batch: 5 , batch size:  8184, discriminator loss: 0.2507697343826294,  gan loss: 0.06886441260576248 \n",
            "GAN batch: 6 , batch size:  8184, discriminator loss: 0.24182778596878052,  gan loss: 0.06282521039247513 \n",
            "\n",
            " ## Batch final Dicriminator epoch: 10 , loss: 0.24182778596878052, GAN loss: 0.06282521039247513 \n",
            "\n",
            "GAN batch: 0 , batch size:  8184, discriminator loss: 0.23443803191184998,  gan loss: 0.057701028883457184 \n",
            "GAN batch: 1 , batch size:  8184, discriminator loss: 0.22530098259449005,  gan loss: 0.05294618755578995 \n",
            "GAN batch: 2 , batch size:  8184, discriminator loss: 0.2187790423631668,  gan loss: 0.04874728247523308 \n",
            "GAN batch: 3 , batch size:  8184, discriminator loss: 0.2115606814622879,  gan loss: 0.04494021460413933 \n",
            "GAN batch: 4 , batch size:  8184, discriminator loss: 0.20430628955364227,  gan loss: 0.0414583794772625 \n",
            "GAN batch: 5 , batch size:  8184, discriminator loss: 0.19680143892765045,  gan loss: 0.03841536119580269 \n",
            "GAN batch: 6 , batch size:  8184, discriminator loss: 0.18938793241977692,  gan loss: 0.035619884729385376 \n",
            "\n",
            " ## Batch final Dicriminator epoch: 11 , loss: 0.18938793241977692, GAN loss: 0.035619884729385376 \n",
            "\n",
            "GAN batch: 0 , batch size:  8184, discriminator loss: 0.18358899652957916,  gan loss: 0.03315463289618492 \n",
            "GAN batch: 1 , batch size:  8184, discriminator loss: 0.17632745206356049,  gan loss: 0.030861668288707733 \n",
            "GAN batch: 2 , batch size:  8184, discriminator loss: 0.17055591940879822,  gan loss: 0.028815414756536484 \n",
            "GAN batch: 3 , batch size:  8184, discriminator loss: 0.16496936976909637,  gan loss: 0.026949098333716393 \n",
            "GAN batch: 4 , batch size:  8184, discriminator loss: 0.15905903279781342,  gan loss: 0.02523951791226864 \n",
            "GAN batch: 5 , batch size:  8184, discriminator loss: 0.15306130051612854,  gan loss: 0.023764360696077347 \n",
            "GAN batch: 6 , batch size:  8184, discriminator loss: 0.14863909780979156,  gan loss: 0.02233858034014702 \n",
            "\n",
            " ## Batch final Dicriminator epoch: 12 , loss: 0.14863909780979156, GAN loss: 0.02233858034014702 \n",
            "\n",
            "GAN batch: 0 , batch size:  8184, discriminator loss: 0.14220574498176575,  gan loss: 0.021080702543258667 \n",
            "GAN batch: 1 , batch size:  8184, discriminator loss: 0.1365094780921936,  gan loss: 0.019902940839529037 \n",
            "GAN batch: 2 , batch size:  8184, discriminator loss: 0.13143040239810944,  gan loss: 0.01885332353413105 \n",
            "GAN batch: 3 , batch size:  8184, discriminator loss: 0.12670686841011047,  gan loss: 0.017852693796157837 \n",
            "GAN batch: 4 , batch size:  8184, discriminator loss: 0.12175876647233963,  gan loss: 0.016972407698631287 \n",
            "GAN batch: 5 , batch size:  8184, discriminator loss: 0.11776451021432877,  gan loss: 0.016118494793772697 \n",
            "GAN batch: 6 , batch size:  8184, discriminator loss: 0.11301092058420181,  gan loss: 0.01535082794725895 \n",
            "\n",
            " ## Batch final Dicriminator epoch: 13 , loss: 0.11301092058420181, GAN loss: 0.01535082794725895 \n",
            "\n",
            "GAN batch: 0 , batch size:  8184, discriminator loss: 0.1084798201918602,  gan loss: 0.014631920494139194 \n",
            "GAN batch: 1 , batch size:  8184, discriminator loss: 0.10476097464561462,  gan loss: 0.013970484025776386 \n",
            "GAN batch: 2 , batch size:  8184, discriminator loss: 0.09999553859233856,  gan loss: 0.013377351686358452 \n",
            "GAN batch: 3 , batch size:  8184, discriminator loss: 0.09641151130199432,  gan loss: 0.012806872837245464 \n",
            "GAN batch: 4 , batch size:  8184, discriminator loss: 0.09313614666461945,  gan loss: 0.012284078635275364 \n",
            "GAN batch: 5 , batch size:  8184, discriminator loss: 0.09048368036746979,  gan loss: 0.0117430305108428 \n",
            "GAN batch: 6 , batch size:  8184, discriminator loss: 0.08737843483686447,  gan loss: 0.011258336715400219 \n",
            "\n",
            " ## Batch final Dicriminator epoch: 14 , loss: 0.08737843483686447, GAN loss: 0.011258336715400219 \n",
            "\n"
          ]
        }
      ]
    },
    {
      "cell_type": "code",
      "source": [
        "torch.manual_seed(random.randint(1, 150))\n",
        "noise_vector = torch.randn(1, latent_dimension).to(device)\n",
        "generated_image = trained_gan.generator(noise_vector)\n",
        "\n",
        "fig, axes = plt.subplots(1, 1, figsize=(3, 1))\n",
        "axes.imshow(generated_image.cpu().detach().numpy().squeeze(), cmap='gray')\n",
        "axes.axis('off')"
      ],
      "metadata": {
        "colab": {
          "base_uri": "https://localhost:8080/",
          "height": 228
        },
        "id": "E-zyssmGgRpP",
        "outputId": "9b261f28-c886-4bd8-8b22-08a17873dae8"
      },
      "execution_count": 53,
      "outputs": [
        {
          "output_type": "execute_result",
          "data": {
            "text/plain": [
              "(np.float64(-0.5), np.float64(27.5), np.float64(27.5), np.float64(-0.5))"
            ]
          },
          "metadata": {},
          "execution_count": 53
        },
        {
          "output_type": "display_data",
          "data": {
            "text/plain": [
              "<Figure size 600x200 with 1 Axes>"
            ],
            "image/png": "[encoded data removed]"
          },
          "metadata": {}
        }
      ]
    }
  ]
}