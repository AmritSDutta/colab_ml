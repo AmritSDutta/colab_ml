{
  "nbformat": 4,
  "nbformat_minor": 0,
  "metadata": {
    "colab": {
      "provenance": [],
      "authorship_tag": "ABX9TyMEeU1fmH0O9NOqRMp2saML",
      "include_colab_link": true
    },
    "kernelspec": {
      "name": "python3",
      "display_name": "Python 3"
    },
    "language_info": {
      "name": "python"
    }
  },
  "cells": [
    {
      "cell_type": "markdown",
      "metadata": {
        "id": "view-in-github",
        "colab_type": "text"
      },
      "source": [
        "<a href=\"https://colab.research.google.com/github/AmritSDutta/colab_ml/blob/main/All_the_steps.ipynb\" target=\"_parent\"><img src=\"https://colab.research.google.com/assets/colab-badge.svg\" alt=\"Open In Colab\"/></a>"
      ]
    },
    {
      "cell_type": "code",
      "source": [
        "!pip install opendatasets"
      ],
      "metadata": {
        "id": "FY3iSBTPyFeC"
      },
      "execution_count": null,
      "outputs": []
    },
    {
      "cell_type": "code",
      "execution_count": null,
      "metadata": {
        "id": "N3FlgMHhx9do"
      },
      "outputs": [],
      "source": [
        "import opendatasets as od\n",
        "import pandas as pd\n",
        "\n",
        "od.download(\"https://www.kaggle.com/datasets/himanshunakrani/iris-dataset\")"
      ]
    },
    {
      "cell_type": "code",
      "source": [
        "df= pd.read_csv(\"/content/iris-dataset/iris.csv\")"
      ],
      "metadata": {
        "id": "M70LVgVjzFI5"
      },
      "execution_count": null,
      "outputs": []
    },
    {
      "cell_type": "code",
      "source": [
        "df.head()\n"
      ],
      "metadata": {
        "id": "qZavbLqkzSUH"
      },
      "execution_count": null,
      "outputs": []
    },
    {
      "cell_type": "code",
      "source": [
        "from sklearn.preprocessing import LabelEncoder\n",
        "\n",
        "# Creating a instance of label Encoder.\n",
        "le = LabelEncoder()\n",
        "\n",
        "# Using .fit_transform function to fit label\n",
        "# encoder and return encoded label\n",
        "label = le.fit_transform(df['species'])\n",
        "\n",
        "# Appending the array to our dataFrame\n",
        "# with column name 'Purchased'\n",
        "df[\"y\"] = label\n",
        "df.head()"
      ],
      "metadata": {
        "id": "OsQuFxVhzWsX"
      },
      "execution_count": null,
      "outputs": []
    },
    {
      "cell_type": "code",
      "source": [
        "from sklearn.utils import shuffle\n",
        "df_shuffled = shuffle(df)\n",
        "df_shuffled.head()"
      ],
      "metadata": {
        "id": "2T_sI_tx2R0K"
      },
      "execution_count": null,
      "outputs": []
    },
    {
      "cell_type": "code",
      "source": [
        "y = df_shuffled[\"y\"].to_numpy()\n",
        "X = df_shuffled.copy().drop([\"species\",\"y\"],axis=1).to_numpy()"
      ],
      "metadata": {
        "id": "Ew8p5YRbJNdn"
      },
      "execution_count": null,
      "outputs": []
    },
    {
      "cell_type": "markdown",
      "source": [
        "**Standardize the data**\n"
      ],
      "metadata": {
        "id": "2Lzd2eCw-y4g"
      }
    },
    {
      "cell_type": "code",
      "source": [
        "from sklearn.model_selection import train_test_split\n",
        "X_train, X_test, y_train, y_test = train_test_split(X, y, test_size=0.2, random_state=42)"
      ],
      "metadata": {
        "id": "_3hWkyFKJKXf"
      },
      "execution_count": null,
      "outputs": []
    },
    {
      "cell_type": "markdown",
      "source": [
        "Trainning"
      ],
      "metadata": {
        "id": "Bnw_tWUt-8Qo"
      }
    },
    {
      "cell_type": "code",
      "source": [
        "from sklearn.preprocessing import StandardScaler\n",
        "sc = StandardScaler()\n",
        "X_train = sc.fit_transform(X_train)\n",
        "X_test = sc.transform(X_test)"
      ],
      "metadata": {
        "id": "qPYU4dWwJHJw"
      },
      "execution_count": null,
      "outputs": []
    },
    {
      "cell_type": "code",
      "source": [
        "from sklearn.linear_model import LogisticRegression\n",
        "classifier = LogisticRegression(random_state = 0)\n",
        "output = classifier.fit(X_train, y_train)\n",
        "print(f'Train output: {output.score(X_train, y_train)}')\n",
        "print(f'Test output: {output.score(X_test,y_test)}')\n"
      ],
      "metadata": {
        "id": "jZrHYlvM3ahy"
      },
      "execution_count": null,
      "outputs": []
    },
    {
      "cell_type": "markdown",
      "source": [
        "**Model explain: PermutationImportance**"
      ],
      "metadata": {
        "id": "YJxXYZ8BBDfv"
      }
    },
    {
      "cell_type": "code",
      "source": [
        "!pip install eli5"
      ],
      "metadata": {
        "id": "XWQIgQKhARng"
      },
      "execution_count": null,
      "outputs": []
    },
    {
      "cell_type": "code",
      "source": [
        "import eli5\n",
        "from eli5.sklearn import PermutationImportance\n",
        "dummy_df = df_shuffled.copy().drop([\"species\",\"y\"],axis=1)\n",
        "\n",
        "perm = PermutationImportance(classifier, random_state=1).fit(X_test, y_test)\n",
        "eli5.show_weights(perm, feature_names = dummy_df.columns.to_list(),)\n"
      ],
      "metadata": {
        "id": "rHg9bIDEALoB"
      },
      "execution_count": null,
      "outputs": []
    },
    {
      "cell_type": "markdown",
      "source": [
        "**Model Explainability with Shap** [link text](https://shap.readthedocs.io/en/latest/example_notebooks/tabular_examples/linear_models/Sentiment%20Analysis%20with%20Logistic%20Regression.html)"
      ],
      "metadata": {
        "id": "S5pcGfci_Am3"
      }
    },
    {
      "cell_type": "code",
      "source": [
        "import shap\n",
        "\n",
        "# explain the model's predictions using SHAP\n",
        "explainer = shap.explainers.Linear(classifier, X_test, feature_names=dummy_df.columns)\n",
        "shap_values = explainer(X_test)\n",
        "print(shap_values.data.shape)\n",
        "\n",
        "# visualize the model's dependence on the first feature\n",
        "shap.summary_plot(shap_values)"
      ],
      "metadata": {
        "id": "TdOG0-Du4ZyI"
      },
      "execution_count": null,
      "outputs": []
    },
    {
      "cell_type": "code",
      "source": [
        "!pip install skl2onnx"
      ],
      "metadata": {
        "id": "sRR_H9ZF9ysH"
      },
      "execution_count": null,
      "outputs": []
    },
    {
      "cell_type": "markdown",
      "source": [
        "**Model optimization ONNX**"
      ],
      "metadata": {
        "id": "GGeKk_LF_P2_"
      }
    },
    {
      "cell_type": "code",
      "source": [
        "from skl2onnx import convert_sklearn\n",
        "from skl2onnx.common.data_types import FloatTensorType\n",
        "\n",
        "initial_type = [('float_input', FloatTensorType([None, X_train.shape[1]]))]\n",
        "onnx_model = convert_sklearn(classifier, initial_types=initial_type)\n",
        "\n",
        "with open(\"rf_model.onnx\", \"wb\") as f:\n",
        "    f.write(onnx_model.SerializeToString())\n"
      ],
      "metadata": {
        "id": "ekDgCbl49oUA"
      },
      "execution_count": null,
      "outputs": []
    },
    {
      "cell_type": "code",
      "source": [
        "!pip install onnxruntime"
      ],
      "metadata": {
        "id": "2VA2UqSb-RAn"
      },
      "execution_count": null,
      "outputs": []
    },
    {
      "cell_type": "markdown",
      "source": [
        "Model Inference from ONNX model"
      ],
      "metadata": {
        "id": "b3UZKGWT_VKn"
      }
    },
    {
      "cell_type": "code",
      "source": [
        "import onnxruntime as ort\n",
        "import numpy as np\n",
        "from sklearn.metrics import accuracy_score\n",
        "# Load ONNX model\n",
        "session = ort.InferenceSession(\"rf_model.onnx\")\n",
        "\n",
        "# Prepare input\n",
        "input_name = session.get_inputs()[0].name\n",
        "input_data = X_test.astype(np.float32)\n",
        "\n",
        "# Run inference\n",
        "preds = session.run(None, {input_name: input_data})[0]\n",
        "print(accuracy_score(y_test, preds))"
      ],
      "metadata": {
        "id": "bRAA8r5S-KV4"
      },
      "execution_count": null,
      "outputs": []
    },
    {
      "cell_type": "code",
      "source": [
        "import torch\n",
        "from torch.nn import functional as F\n",
        "from torch import nn\n",
        "\n",
        "torch_model = nn.Sequential(\n",
        "    nn.Linear(4, 10),\n",
        "    nn.ReLU(),\n",
        "    nn.Linear(10, 3),\n",
        ")\n",
        "torch_model.compile()\n",
        "print(torch_model)"
      ],
      "metadata": {
        "id": "p627mLfpBWT_"
      },
      "execution_count": null,
      "outputs": []
    },
    {
      "cell_type": "code",
      "source": [
        "# Convert to PyTorch tensors\n",
        "X_train_tensor = torch.tensor(X_train, dtype=torch.float32)\n",
        "y_train_tensor = torch.tensor(y_train, dtype=torch.long)\n",
        "X_test_tensor = torch.tensor(X_test, dtype=torch.float32)\n",
        "y_test_tensor = torch.tensor(y_test, dtype=torch.long)\n",
        "\n",
        "# Create Dataset and DataLoader\n",
        "train_dataset = torch.utils.data.TensorDataset(X_train_tensor, y_train_tensor)\n",
        "train_loader = torch.utils.data.DataLoader(train_dataset, batch_size=8, shuffle=True)"
      ],
      "metadata": {
        "id": "se9ecJwzDSgP"
      },
      "execution_count": null,
      "outputs": []
    },
    {
      "cell_type": "code",
      "source": [
        "from torch import optim\n",
        "from torch import nn\n",
        "criterion = nn.CrossEntropyLoss()\n",
        "optimizer = optim.Adam(torch_model.parameters(), lr=0.01)\n",
        "\n",
        "# Training loop\n",
        "for epoch in range(100):\n",
        "    for batch_X, batch_y in train_loader:\n",
        "        optimizer.zero_grad()\n",
        "        outputs = torch_model(batch_X)\n",
        "        loss = criterion(outputs, batch_y)\n",
        "        loss.backward()\n",
        "        optimizer.step()\n",
        "\n",
        "    if (epoch + 1) % 20 == 0:\n",
        "        print(f\"Epoch [{epoch+1}/100], Loss: {loss.item():.4f}\")"
      ],
      "metadata": {
        "id": "-sDfoJTMDYPB"
      },
      "execution_count": null,
      "outputs": []
    },
    {
      "cell_type": "code",
      "source": [
        "torch_model.eval()\n",
        "with torch.no_grad():\n",
        "    outputs = torch_model(X_test_tensor)\n",
        "    _, predicted = torch.max(outputs, 1)\n",
        "    acc = accuracy_score(y_test_tensor, predicted)\n",
        "    print(f\"Test Accuracy: {acc * 100:.2f}%\")\n"
      ],
      "metadata": {
        "id": "r9Z9XrZMDxQC"
      },
      "execution_count": null,
      "outputs": []
    },
    {
      "cell_type": "code",
      "source": [
        "!pip install torch torchviz graphviz\n"
      ],
      "metadata": {
        "id": "xtkMp2UyEAoQ"
      },
      "execution_count": null,
      "outputs": []
    },
    {
      "cell_type": "code",
      "source": [
        "from torchviz import make_dot\n",
        "sample_input = X_test_tensor[0].unsqueeze(0)\n",
        "make_dot(torch_model(sample_input), params=dict(torch_model.named_parameters())).render(\"iris_model\", format=\"png\")\n"
      ],
      "metadata": {
        "id": "J9_BitXUD654"
      },
      "execution_count": null,
      "outputs": []
    },
    {
      "cell_type": "code",
      "source": [
        "from IPython.display import Image\n",
        "Image(\"iris_model.png\")"
      ],
      "metadata": {
        "id": "VasxE41eFGqw"
      },
      "execution_count": null,
      "outputs": []
    },
    {
      "cell_type": "code",
      "source": [
        "# SHAP Explainability\n",
        "background = X_train_tensor[:20]\n",
        "data_to_explain = X_test_tensor[:5]\n",
        "\n",
        "explainer = shap.GradientExplainer(torch_model, background)\n",
        "shap_values = explainer.shap_values(data_to_explain)\n",
        "\n",
        "# Visualization\n",
        "shap.summary_plot(shap_values, data_to_explain.numpy(), feature_names=dummy_df.columns)"
      ],
      "metadata": {
        "id": "ingnmjB9FgFn"
      },
      "execution_count": null,
      "outputs": []
    },
    {
      "cell_type": "code",
      "source": [
        "# 5. Quantize the model (dynamic quantization)\n",
        "quantized_model = torch.quantization.quantize_dynamic(\n",
        "    torch_model, {nn.Linear}, dtype=torch.qint8\n",
        ")\n",
        "\n",
        "# 6. Evaluate the quantized model\n",
        "with torch.no_grad():\n",
        "    pred_quant = quantized_model(X_test_tensor).argmax(dim=1)\n",
        "    acc_quant = accuracy_score(y_test_tensor, pred_quant)\n",
        "    print(f\"[After Quantization] Accuracy: {acc_quant * 100:.2f}%\")"
      ],
      "metadata": {
        "id": "SkCi1_U_G3rg"
      },
      "execution_count": null,
      "outputs": []
    },
    {
      "cell_type": "code",
      "source": [
        "import tensorflow as tf\n",
        "\n",
        "from tensorflow import keras\n",
        "from keras.layers import Dense"
      ],
      "metadata": {
        "id": "pzWqT1SHIZf5"
      },
      "execution_count": null,
      "outputs": []
    },
    {
      "cell_type": "code",
      "source": [
        "def train_model(_compiled_model, _X_train, _y_train, _X_valid, _y_valid, _model_file_name):\n",
        "    _history = _compiled_model.fit(_X_train, _y_train,\n",
        "                                   epochs=25,\n",
        "                                   validation_data=(_X_valid, _y_valid),\n",
        "                                   callbacks=[keras.callbacks.EarlyStopping(patience=2)]\n",
        "                                   )\n",
        "    _compiled_model.save(_model_file_name)\n"
      ],
      "metadata": {
        "id": "gr6r0yEOKeNI"
      },
      "execution_count": null,
      "outputs": []
    },
    {
      "cell_type": "code",
      "source": [
        "len(X_train)"
      ],
      "metadata": {
        "id": "W0iZHRdlMabv"
      },
      "execution_count": null,
      "outputs": []
    },
    {
      "cell_type": "code",
      "source": [
        "X_valid, y_valid = X_train[100:], y_train[100:]"
      ],
      "metadata": {
        "id": "BJyznBsSMJRX"
      },
      "execution_count": null,
      "outputs": []
    },
    {
      "cell_type": "code",
      "source": [
        "tf_model = keras.models.Sequential()\n",
        "tf_model.add(keras.layers.Flatten(input_shape=[4]))\n",
        "tf_model.add(keras.layers.Dense(4, activation=\"relu\"))\n",
        "tf_model.add(keras.layers.Dense(10, activation=\"relu\"))\n",
        "tf_model.add(keras.layers.Dense(3, activation=\"softmax\"))\n",
        "\n",
        "tf_model.compile(loss=\"sparse_categorical_crossentropy\",\n",
        "              optimizer=keras.optimizers.Adam(learning_rate=0.01),\n",
        "              metrics=[\"accuracy\"])\n",
        "print(tf_model.summary())\n",
        "model_file_name = 'iris_data_model.keras'\n",
        "\n",
        "train_model(tf_model, X_train[:100], y_train[:100], X_train[100:], y_train[100:], model_file_name)\n",
        "\n",
        "saved_model = keras.models.load_model(model_file_name)\n",
        "score = saved_model.evaluate(X_test, y_test)\n",
        "print('Score: ' + str(score))"
      ],
      "metadata": {
        "id": "cMYtQO6LKOyn"
      },
      "execution_count": null,
      "outputs": []
    },
    {
      "cell_type": "code",
      "source": [
        "# SHAP Explainability\n",
        "background = X_train[:20]\n",
        "data_to_explain = X_test[:5]\n",
        "\n",
        "explainer = shap.GradientExplainer(tf_model, background)\n",
        "shap_values = explainer.shap_values(data_to_explain)\n",
        "\n",
        "# Visualization\n",
        "shap.summary_plot(shap_values, data_to_explain, feature_names=dummy_df.columns)"
      ],
      "metadata": {
        "id": "W9qGfGnOOJgz"
      },
      "execution_count": null,
      "outputs": []
    },
    {
      "cell_type": "code",
      "source": [
        "#shap.initjs()\n",
        "explainer = shap.KernelExplainer(saved_model, background)\n",
        "shap_values = explainer.shap_values(data_to_explain, nsamples=50)\n",
        "#shap.plots.force(explainer.expected_value[0], shap_values[..., 0], feature_names=dummy_df.columns)"
      ],
      "metadata": {
        "id": "rXpYV-FeuyfJ"
      },
      "execution_count": null,
      "outputs": []
    }
  ]
}