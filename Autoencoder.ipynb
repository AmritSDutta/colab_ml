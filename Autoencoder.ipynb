{
  "nbformat": 4,
  "nbformat_minor": 0,
  "metadata": {
    "colab": {
      "provenance": [],
      "authorship_tag": "ABX9TyMOe7iHBqZ5KD5ZQnx1l4ZB",
      "include_colab_link": true
    },
    "kernelspec": {
      "name": "python3",
      "display_name": "Python 3"
    },
    "language_info": {
      "name": "python"
    }
  },
  "cells": [
    {
      "cell_type": "markdown",
      "metadata": {
        "id": "view-in-github",
        "colab_type": "text"
      },
      "source": [
        "<a href=\"https://colab.research.google.com/github/AmritSDutta/colab_ml/blob/main/Autoencoder.ipynb\" target=\"_parent\"><img src=\"https://colab.research.google.com/assets/colab-badge.svg\" alt=\"Open In Colab\"/></a>"
      ]
    },
    {
      "cell_type": "code",
      "execution_count": 2,
      "metadata": {
        "id": "ACUCs4PL_8eN"
      },
      "outputs": [],
      "source": [
        "import torch; torch.manual_seed(0)\n",
        "import torch.nn as nn\n",
        "import torch.nn.functional as F\n",
        "import torch.utils\n",
        "import torch.distributions\n",
        "import torchvision\n",
        "import numpy as np\n",
        "import matplotlib.pyplot as plt; plt.rcParams['figure.dpi'] = 200"
      ]
    },
    {
      "cell_type": "code",
      "source": [
        "device = 'cuda' if torch.accelerator.is_available() else 'cpu'\n"
      ],
      "metadata": {
        "id": "pWs3Qwl9AFrr"
      },
      "execution_count": 3,
      "outputs": []
    },
    {
      "cell_type": "code",
      "source": [
        "class EncoderV1(nn.Module):\n",
        "    def __init__(self, latent_dim):\n",
        "        super(EncoderV1, self).__init__()\n",
        "        self.first = nn.Sequential(\n",
        "            nn.Conv2d(1, 32, kernel_size=3, stride=2, padding=1),\n",
        "            nn.AvgPool2d(kernel_size=3, stride=2, padding=1),\n",
        "            nn.ReLU(),\n",
        "            nn.Conv2d(32, 64, kernel_size=3, stride=2, padding=1),\n",
        "            nn.AvgPool2d(kernel_size=3, stride=2, padding=1),\n",
        "        )\n",
        "\n",
        "        self.second = nn.Sequential(\n",
        "            nn.Linear(256, 392),\n",
        "            nn.ReLU(),\n",
        "            nn.Linear(392, latent_dim)\n",
        "        )\n",
        "\n",
        "    def forward(self, x):\n",
        "            x= self.first(x)\n",
        "            x= F.relu(x)\n",
        "            x = x.reshape((-1, 256))\n",
        "            x = self.second(x)\n",
        "\n",
        "            return x"
      ],
      "metadata": {
        "id": "-VMwdJ58AV3F"
      },
      "execution_count": 4,
      "outputs": []
    },
    {
      "cell_type": "code",
      "source": [
        "encoded = EncoderV1(2)(torch.randn(1,1,28,28))"
      ],
      "metadata": {
        "id": "bizbq8UyJVmB"
      },
      "execution_count": 5,
      "outputs": []
    },
    {
      "cell_type": "code",
      "source": [
        "class DecoderV1(nn.Module):\n",
        "    def __init__(self, latent_dim):\n",
        "        super(DecoderV1, self).__init__()\n",
        "        self.first = nn.Sequential(\n",
        "            nn.Linear(latent_dim, 392),\n",
        "            nn.ReLU(),\n",
        "            nn.Linear(392, 784)\n",
        "        )\n",
        "\n",
        "    def forward(self, x):\n",
        "        x= self.first(x)\n",
        "        decoded = F.relu(x)\n",
        "        return decoded.reshape((-1, 1, 28, 28))\n"
      ],
      "metadata": {
        "id": "V6u2XE3qBTZk"
      },
      "execution_count": 6,
      "outputs": []
    },
    {
      "cell_type": "code",
      "source": [
        "DecoderV1(2)(encoded)"
      ],
      "metadata": {
        "colab": {
          "base_uri": "https://localhost:8080/"
        },
        "id": "awdnPPwxKghD",
        "outputId": "2e7702a0-91aa-4846-ca5f-2dcd958e00c0"
      },
      "execution_count": 7,
      "outputs": [
        {
          "output_type": "execute_result",
          "data": {
            "text/plain": [
              "tensor([[[[0.0000e+00, 1.2645e-02, 7.5045e-02, 0.0000e+00, 2.7924e-02,\n",
              "           2.7627e-04, 1.3886e-01, 0.0000e+00, 0.0000e+00, 1.7027e-01,\n",
              "           0.0000e+00, 4.2776e-02, 8.7019e-02, 3.1637e-02, 1.3501e-01,\n",
              "           9.8229e-02, 0.0000e+00, 0.0000e+00, 3.3135e-01, 1.6984e-01,\n",
              "           1.0384e-01, 0.0000e+00, 4.2793e-01, 0.0000e+00, 0.0000e+00,\n",
              "           0.0000e+00, 0.0000e+00, 0.0000e+00],\n",
              "          [2.5879e-01, 0.0000e+00, 0.0000e+00, 0.0000e+00, 0.0000e+00,\n",
              "           0.0000e+00, 0.0000e+00, 4.0258e-02, 0.0000e+00, 0.0000e+00,\n",
              "           0.0000e+00, 1.5084e-01, 0.0000e+00, 1.2192e-01, 4.4150e-02,\n",
              "           2.0527e-01, 0.0000e+00, 9.2935e-02, 0.0000e+00, 0.0000e+00,\n",
              "           0.0000e+00, 0.0000e+00, 0.0000e+00, 0.0000e+00, 0.0000e+00,\n",
              "           8.2626e-02, 0.0000e+00, 0.0000e+00],\n",
              "          [4.9585e-02, 7.8634e-02, 0.0000e+00, 2.9964e-01, 5.6922e-02,\n",
              "           8.2932e-02, 4.1533e-02, 6.3274e-02, 4.2823e-03, 6.9019e-02,\n",
              "           0.0000e+00, 3.8462e-02, 1.7757e-01, 0.0000e+00, 2.3945e-02,\n",
              "           0.0000e+00, 1.9322e-02, 3.4052e-02, 0.0000e+00, 0.0000e+00,\n",
              "           2.1066e-01, 0.0000e+00, 0.0000e+00, 0.0000e+00, 0.0000e+00,\n",
              "           3.5040e-01, 4.7641e-02, 0.0000e+00],\n",
              "          [1.9597e-01, 0.0000e+00, 5.3492e-02, 0.0000e+00, 0.0000e+00,\n",
              "           0.0000e+00, 4.3714e-02, 0.0000e+00, 0.0000e+00, 0.0000e+00,\n",
              "           1.1713e-01, 1.4964e-02, 0.0000e+00, 0.0000e+00, 3.1274e-01,\n",
              "           0.0000e+00, 4.7733e-02, 7.6552e-02, 0.0000e+00, 8.7937e-02,\n",
              "           0.0000e+00, 0.0000e+00, 0.0000e+00, 3.9002e-02, 0.0000e+00,\n",
              "           0.0000e+00, 4.5636e-01, 0.0000e+00],\n",
              "          [0.0000e+00, 0.0000e+00, 0.0000e+00, 1.3734e-01, 9.6784e-02,\n",
              "           0.0000e+00, 1.5919e-01, 1.9582e-01, 5.7109e-02, 3.7597e-01,\n",
              "           3.1929e-02, 8.7156e-02, 7.2342e-02, 6.4525e-02, 6.7215e-02,\n",
              "           0.0000e+00, 0.0000e+00, 0.0000e+00, 7.4249e-03, 0.0000e+00,\n",
              "           0.0000e+00, 2.3153e-01, 3.5931e-02, 0.0000e+00, 3.7502e-01,\n",
              "           3.0740e-01, 5.0338e-02, 2.0909e-01],\n",
              "          [2.3703e-01, 1.7951e-03, 1.5539e-02, 0.0000e+00, 0.0000e+00,\n",
              "           0.0000e+00, 5.8868e-02, 3.3442e-02, 1.1244e-01, 2.5349e-01,\n",
              "           0.0000e+00, 0.0000e+00, 1.9535e-01, 1.5631e-02, 1.3452e-01,\n",
              "           9.0814e-03, 7.8354e-02, 0.0000e+00, 1.8924e-01, 1.1719e-01,\n",
              "           4.4763e-02, 3.9706e-01, 0.0000e+00, 2.1752e-01, 1.9766e-01,\n",
              "           2.6737e-02, 0.0000e+00, 0.0000e+00],\n",
              "          [0.0000e+00, 6.5842e-03, 0.0000e+00, 0.0000e+00, 2.5584e-02,\n",
              "           0.0000e+00, 3.6487e-01, 1.9857e-01, 1.7840e-01, 0.0000e+00,\n",
              "           1.4986e-01, 0.0000e+00, 0.0000e+00, 1.5186e-01, 0.0000e+00,\n",
              "           0.0000e+00, 0.0000e+00, 1.1633e-01, 2.3587e-02, 6.6884e-02,\n",
              "           0.0000e+00, 6.3834e-02, 1.4137e-01, 0.0000e+00, 0.0000e+00,\n",
              "           6.2477e-02, 0.0000e+00, 0.0000e+00],\n",
              "          [0.0000e+00, 0.0000e+00, 0.0000e+00, 0.0000e+00, 0.0000e+00,\n",
              "           5.0242e-02, 0.0000e+00, 0.0000e+00, 1.5812e-01, 3.7059e-01,\n",
              "           4.9329e-03, 1.4188e-01, 2.6567e-03, 4.8120e-02, 8.2769e-02,\n",
              "           2.4012e-01, 1.5730e-01, 0.0000e+00, 0.0000e+00, 0.0000e+00,\n",
              "           1.6261e-01, 2.5834e-02, 0.0000e+00, 1.3663e-01, 1.1997e-02,\n",
              "           5.3801e-02, 7.9935e-02, 1.9309e-01],\n",
              "          [7.2987e-02, 0.0000e+00, 7.5073e-03, 0.0000e+00, 1.9442e-02,\n",
              "           0.0000e+00, 3.0869e-03, 1.0377e-01, 3.4989e-01, 0.0000e+00,\n",
              "           7.1944e-02, 0.0000e+00, 0.0000e+00, 8.8965e-02, 0.0000e+00,\n",
              "           0.0000e+00, 0.0000e+00, 0.0000e+00, 3.4127e-01, 0.0000e+00,\n",
              "           0.0000e+00, 1.2337e-01, 2.7874e-03, 5.0583e-02, 0.0000e+00,\n",
              "           1.4904e-01, 8.5859e-02, 1.4635e-01],\n",
              "          [2.0386e-01, 3.3126e-01, 0.0000e+00, 0.0000e+00, 5.7038e-02,\n",
              "           1.1743e-01, 2.0526e-01, 0.0000e+00, 0.0000e+00, 2.4030e-02,\n",
              "           0.0000e+00, 1.7138e-01, 2.4238e-01, 1.5687e-01, 2.7840e-01,\n",
              "           0.0000e+00, 0.0000e+00, 1.3949e-02, 0.0000e+00, 0.0000e+00,\n",
              "           5.6848e-02, 0.0000e+00, 8.7427e-03, 0.0000e+00, 0.0000e+00,\n",
              "           0.0000e+00, 0.0000e+00, 0.0000e+00],\n",
              "          [0.0000e+00, 0.0000e+00, 0.0000e+00, 7.5149e-02, 0.0000e+00,\n",
              "           1.6830e-01, 4.4974e-03, 0.0000e+00, 0.0000e+00, 1.2519e-01,\n",
              "           0.0000e+00, 1.5380e-01, 0.0000e+00, 1.2015e-01, 0.0000e+00,\n",
              "           1.2882e-01, 0.0000e+00, 4.1502e-02, 1.6223e-01, 0.0000e+00,\n",
              "           2.7968e-01, 0.0000e+00, 0.0000e+00, 0.0000e+00, 0.0000e+00,\n",
              "           0.0000e+00, 1.6622e-02, 1.1124e-01],\n",
              "          [2.0094e-02, 2.1124e-02, 0.0000e+00, 0.0000e+00, 0.0000e+00,\n",
              "           0.0000e+00, 1.0290e-02, 5.4873e-02, 0.0000e+00, 0.0000e+00,\n",
              "           2.9532e-01, 1.7223e-01, 2.4592e-01, 0.0000e+00, 3.4000e-02,\n",
              "           0.0000e+00, 0.0000e+00, 0.0000e+00, 0.0000e+00, 0.0000e+00,\n",
              "           6.8313e-02, 2.4447e-02, 1.1835e-01, 3.2648e-01, 0.0000e+00,\n",
              "           6.4079e-02, 0.0000e+00, 3.2047e-03],\n",
              "          [3.6979e-01, 0.0000e+00, 0.0000e+00, 1.7714e-02, 1.6057e-01,\n",
              "           1.7809e-01, 0.0000e+00, 0.0000e+00, 1.8351e-02, 0.0000e+00,\n",
              "           0.0000e+00, 0.0000e+00, 0.0000e+00, 0.0000e+00, 2.7071e-01,\n",
              "           1.4534e-02, 1.2704e-02, 0.0000e+00, 0.0000e+00, 0.0000e+00,\n",
              "           0.0000e+00, 0.0000e+00, 0.0000e+00, 0.0000e+00, 4.0993e-01,\n",
              "           1.2155e-01, 9.8195e-02, 1.5467e-01],\n",
              "          [8.0640e-02, 1.4950e-01, 0.0000e+00, 0.0000e+00, 0.0000e+00,\n",
              "           1.6537e-01, 1.6842e-01, 0.0000e+00, 0.0000e+00, 4.2177e-01,\n",
              "           0.0000e+00, 0.0000e+00, 8.0301e-02, 1.1568e-01, 9.9812e-02,\n",
              "           0.0000e+00, 0.0000e+00, 3.4121e-01, 1.4985e-01, 4.5730e-02,\n",
              "           5.3923e-02, 4.4650e-02, 0.0000e+00, 0.0000e+00, 0.0000e+00,\n",
              "           0.0000e+00, 0.0000e+00, 0.0000e+00],\n",
              "          [0.0000e+00, 0.0000e+00, 1.9921e-03, 0.0000e+00, 0.0000e+00,\n",
              "           2.1932e-01, 0.0000e+00, 3.8503e-01, 5.0053e-02, 1.0239e-01,\n",
              "           0.0000e+00, 5.6467e-02, 0.0000e+00, 6.1684e-03, 0.0000e+00,\n",
              "           3.1661e-01, 0.0000e+00, 1.1450e-02, 1.3170e-01, 0.0000e+00,\n",
              "           0.0000e+00, 1.5197e-01, 0.0000e+00, 0.0000e+00, 2.0366e-01,\n",
              "           0.0000e+00, 0.0000e+00, 1.8027e-01],\n",
              "          [7.2216e-02, 1.6130e-01, 3.0235e-01, 0.0000e+00, 0.0000e+00,\n",
              "           1.2600e-02, 2.0682e-01, 0.0000e+00, 1.1047e-01, 2.2813e-01,\n",
              "           0.0000e+00, 1.4206e-01, 1.4067e-01, 1.4284e-01, 3.8677e-01,\n",
              "           6.7916e-02, 0.0000e+00, 2.9371e-01, 0.0000e+00, 3.5338e-02,\n",
              "           0.0000e+00, 4.1094e-04, 0.0000e+00, 1.4944e-02, 0.0000e+00,\n",
              "           4.8622e-02, 1.9668e-01, 1.4568e-01],\n",
              "          [2.6085e-01, 6.7952e-02, 0.0000e+00, 0.0000e+00, 1.7018e-01,\n",
              "           0.0000e+00, 1.3580e-03, 2.4286e-01, 2.3461e-02, 1.2344e-01,\n",
              "           0.0000e+00, 2.1521e-01, 0.0000e+00, 1.3000e-01, 1.7549e-01,\n",
              "           1.5107e-02, 2.9085e-01, 5.6590e-02, 0.0000e+00, 2.8036e-02,\n",
              "           0.0000e+00, 2.4845e-01, 2.6248e-01, 5.5523e-03, 1.5879e-01,\n",
              "           0.0000e+00, 0.0000e+00, 2.7960e-01],\n",
              "          [0.0000e+00, 0.0000e+00, 3.0201e-02, 8.4179e-02, 0.0000e+00,\n",
              "           1.6941e-01, 0.0000e+00, 3.0088e-01, 1.5494e-02, 0.0000e+00,\n",
              "           0.0000e+00, 0.0000e+00, 0.0000e+00, 0.0000e+00, 8.3910e-02,\n",
              "           2.3961e-03, 0.0000e+00, 0.0000e+00, 3.0137e-02, 8.8905e-03,\n",
              "           0.0000e+00, 5.8171e-02, 0.0000e+00, 0.0000e+00, 0.0000e+00,\n",
              "           4.6460e-02, 0.0000e+00, 0.0000e+00],\n",
              "          [5.8547e-02, 5.3765e-02, 0.0000e+00, 0.0000e+00, 0.0000e+00,\n",
              "           0.0000e+00, 3.8465e-02, 6.0024e-02, 1.4033e-01, 0.0000e+00,\n",
              "           3.0032e-01, 0.0000e+00, 0.0000e+00, 4.7852e-02, 0.0000e+00,\n",
              "           0.0000e+00, 0.0000e+00, 1.3000e-01, 0.0000e+00, 1.6046e-01,\n",
              "           1.2615e-02, 0.0000e+00, 0.0000e+00, 2.9820e-01, 1.0356e-01,\n",
              "           3.4928e-02, 3.1306e-01, 9.0115e-02],\n",
              "          [0.0000e+00, 3.8491e-02, 1.8585e-01, 1.8527e-01, 9.4696e-02,\n",
              "           1.1283e-01, 7.6142e-02, 1.2085e-02, 9.6997e-02, 1.9105e-01,\n",
              "           0.0000e+00, 0.0000e+00, 8.5439e-02, 1.3159e-01, 3.4638e-01,\n",
              "           1.6882e-01, 0.0000e+00, 6.2497e-02, 0.0000e+00, 0.0000e+00,\n",
              "           1.2830e-02, 9.6103e-02, 8.9582e-02, 0.0000e+00, 0.0000e+00,\n",
              "           1.3887e-01, 1.9101e-02, 0.0000e+00],\n",
              "          [1.7457e-02, 1.1354e-01, 0.0000e+00, 2.4840e-01, 1.7157e-01,\n",
              "           9.9904e-02, 1.5593e-02, 0.0000e+00, 1.6000e-03, 1.8784e-01,\n",
              "           0.0000e+00, 0.0000e+00, 0.0000e+00, 5.4637e-02, 6.6469e-02,\n",
              "           1.2439e-01, 0.0000e+00, 0.0000e+00, 0.0000e+00, 7.7833e-02,\n",
              "           0.0000e+00, 9.5936e-02, 0.0000e+00, 1.4385e-02, 0.0000e+00,\n",
              "           7.4218e-02, 5.1113e-02, 0.0000e+00],\n",
              "          [1.6014e-01, 1.7938e-01, 0.0000e+00, 1.0303e-01, 8.5868e-02,\n",
              "           9.1184e-02, 0.0000e+00, 0.0000e+00, 0.0000e+00, 0.0000e+00,\n",
              "           2.9774e-02, 0.0000e+00, 2.5260e-02, 0.0000e+00, 0.0000e+00,\n",
              "           0.0000e+00, 1.3520e-01, 1.1567e-01, 0.0000e+00, 1.6281e-01,\n",
              "           0.0000e+00, 1.4187e-02, 3.7721e-01, 0.0000e+00, 2.8603e-02,\n",
              "           3.8445e-02, 7.0844e-02, 0.0000e+00],\n",
              "          [1.6124e-01, 0.0000e+00, 0.0000e+00, 1.8295e-01, 0.0000e+00,\n",
              "           9.1097e-02, 4.1270e-02, 0.0000e+00, 0.0000e+00, 0.0000e+00,\n",
              "           0.0000e+00, 0.0000e+00, 2.4933e-03, 2.0496e-01, 2.1852e-01,\n",
              "           3.3609e-01, 1.0956e-01, 2.9685e-02, 1.9101e-01, 1.3533e-02,\n",
              "           1.8673e-02, 6.7019e-02, 0.0000e+00, 2.0315e-01, 1.5655e-01,\n",
              "           0.0000e+00, 0.0000e+00, 0.0000e+00],\n",
              "          [0.0000e+00, 1.2372e-01, 0.0000e+00, 0.0000e+00, 3.9885e-01,\n",
              "           0.0000e+00, 3.7720e-01, 1.8780e-01, 3.1745e-01, 0.0000e+00,\n",
              "           1.2716e-01, 0.0000e+00, 1.8700e-01, 1.0421e-01, 0.0000e+00,\n",
              "           0.0000e+00, 0.0000e+00, 0.0000e+00, 2.9101e-02, 0.0000e+00,\n",
              "           1.8112e-01, 0.0000e+00, 2.8260e-01, 0.0000e+00, 3.8100e-02,\n",
              "           0.0000e+00, 0.0000e+00, 8.0786e-02],\n",
              "          [0.0000e+00, 4.0123e-02, 1.1787e-01, 0.0000e+00, 9.5235e-02,\n",
              "           0.0000e+00, 0.0000e+00, 0.0000e+00, 0.0000e+00, 5.7099e-02,\n",
              "           2.4151e-01, 0.0000e+00, 7.1090e-02, 0.0000e+00, 0.0000e+00,\n",
              "           0.0000e+00, 5.8980e-02, 1.2333e-01, 0.0000e+00, 8.8363e-02,\n",
              "           0.0000e+00, 0.0000e+00, 3.3793e-02, 9.3283e-02, 0.0000e+00,\n",
              "           0.0000e+00, 1.3997e-01, 3.7937e-01],\n",
              "          [0.0000e+00, 0.0000e+00, 1.2479e-01, 1.3311e-01, 2.5816e-01,\n",
              "           1.7834e-01, 2.9830e-02, 2.6439e-01, 0.0000e+00, 0.0000e+00,\n",
              "           0.0000e+00, 1.7284e-01, 7.3164e-02, 0.0000e+00, 2.1077e-01,\n",
              "           1.3863e-02, 0.0000e+00, 0.0000e+00, 0.0000e+00, 0.0000e+00,\n",
              "           0.0000e+00, 1.5829e-01, 4.0825e-02, 0.0000e+00, 0.0000e+00,\n",
              "           2.5544e-02, 1.9870e-02, 0.0000e+00],\n",
              "          [0.0000e+00, 0.0000e+00, 1.6097e-02, 0.0000e+00, 2.1663e-01,\n",
              "           1.1275e-01, 3.8282e-02, 0.0000e+00, 0.0000e+00, 9.7339e-02,\n",
              "           4.8105e-02, 2.6172e-01, 1.2900e-01, 7.1738e-02, 1.1601e-01,\n",
              "           1.8027e-01, 7.7692e-02, 3.4629e-02, 1.4766e-01, 0.0000e+00,\n",
              "           0.0000e+00, 0.0000e+00, 1.3774e-01, 0.0000e+00, 8.6504e-02,\n",
              "           0.0000e+00, 1.4491e-01, 1.8087e-01],\n",
              "          [0.0000e+00, 3.7543e-01, 1.2434e-01, 4.9603e-02, 0.0000e+00,\n",
              "           6.9643e-02, 1.7744e-01, 1.0318e-01, 0.0000e+00, 9.4382e-02,\n",
              "           1.5630e-01, 9.4290e-02, 0.0000e+00, 1.9821e-01, 0.0000e+00,\n",
              "           3.3406e-01, 1.0351e-02, 1.3035e-01, 0.0000e+00, 1.1359e-01,\n",
              "           0.0000e+00, 0.0000e+00, 1.2817e-01, 0.0000e+00, 0.0000e+00,\n",
              "           6.5591e-02, 5.6828e-02, 1.5033e-01]]]], grad_fn=<ViewBackward0>)"
            ]
          },
          "metadata": {},
          "execution_count": 7
        }
      ]
    },
    {
      "cell_type": "code",
      "source": [
        "class AutoEncoderV1(nn.Module):\n",
        "    def __init__(self, latent_dim):\n",
        "        super(AutoEncoderV1, self).__init__()\n",
        "        self.encoder = EncoderV1(latent_dim)\n",
        "        self.decoder = DecoderV1(latent_dim)\n",
        "\n",
        "    def forward(self, x):\n",
        "        #x = x.reshape((-1, 784))\n",
        "        encoded = self.encoder(x)\n",
        "        return self.decoder(encoded)\n"
      ],
      "metadata": {
        "id": "h4_s0IGWCEb9"
      },
      "execution_count": 8,
      "outputs": []
    },
    {
      "cell_type": "code",
      "source": [
        "def train(model, data, epochs=5):\n",
        "    opt = torch.optim.Adam(model.parameters())\n",
        "    loss_fn = nn.MSELoss()\n",
        "    model.train()\n",
        "    for epoch in range(epochs):\n",
        "        for x, y in data:\n",
        "            x = x.to(device) # GPU\n",
        "            opt.zero_grad()\n",
        "            x_hat = model(x)\n",
        "            loss = loss_fn(x,x_hat)\n",
        "            loss.backward()\n",
        "            opt.step()\n",
        "        print(f'epoch: {epoch} , loss: {loss}')\n",
        "    return model"
      ],
      "metadata": {
        "id": "b9WKPD5AAozM"
      },
      "execution_count": 9,
      "outputs": []
    },
    {
      "cell_type": "code",
      "source": [
        "latent_dims = 16\n",
        "autoencoder_model = AutoEncoderV1(latent_dims).to(device) # GPU\n",
        "\n",
        "data = torch.utils.data.DataLoader(\n",
        "        torchvision.datasets.MNIST('./data',\n",
        "               transform=torchvision.transforms.ToTensor(),\n",
        "               download=True),\n",
        "        batch_size=32,\n",
        "        shuffle=True)\n",
        "\n",
        "autoencoder = train(autoencoder_model, data)"
      ],
      "metadata": {
        "colab": {
          "base_uri": "https://localhost:8080/"
        },
        "id": "rxyti8G9Aska",
        "outputId": "78fac7ef-69ab-4a82-ddf9-7bed4361c6bb"
      },
      "execution_count": 10,
      "outputs": [
        {
          "output_type": "stream",
          "name": "stderr",
          "text": [
            "100%|██████████| 9.91M/9.91M [00:01<00:00, 5.48MB/s]\n",
            "100%|██████████| 28.9k/28.9k [00:00<00:00, 160kB/s]\n",
            "100%|██████████| 1.65M/1.65M [00:01<00:00, 1.51MB/s]\n",
            "100%|██████████| 4.54k/4.54k [00:00<00:00, 4.90MB/s]\n"
          ]
        },
        {
          "output_type": "stream",
          "name": "stdout",
          "text": [
            "epoch: 0 , loss: 0.034871067851781845\n",
            "epoch: 1 , loss: 0.02558894455432892\n",
            "epoch: 2 , loss: 0.027675900608301163\n",
            "epoch: 3 , loss: 0.02472199872136116\n",
            "epoch: 4 , loss: 0.020672671496868134\n"
          ]
        }
      ]
    },
    {
      "cell_type": "code",
      "source": [
        "test_dataset = torchvision.datasets.MNIST(root='data', train=False, transform=torchvision.transforms.ToTensor())\n",
        "\n",
        "test_dataloader = torch.utils.data.DataLoader(\n",
        "        test_dataset, batch_size=32, shuffle=True)"
      ],
      "metadata": {
        "id": "LXyi2pn1zQNq"
      },
      "execution_count": 14,
      "outputs": []
    },
    {
      "cell_type": "code",
      "source": [
        "def visualize_rebuild(model, data_loader):\n",
        "    model.eval()\n",
        "    with torch.no_grad():\n",
        "        images, _ = next(iter(data_loader))\n",
        "        images = images.to(device)\n",
        "        reconstructed = model(images)\n",
        "\n",
        "        # Plot original vs reconstructed images\n",
        "        fig, axes = plt.subplots(2, 8, figsize=(15, 4))\n",
        "        for i in range(8):\n",
        "            # Original images\n",
        "            axes[0,i].imshow(images[i].cpu().numpy().squeeze(), cmap='gray')\n",
        "            axes[0,i].axis('off')\n",
        "\n",
        "            # Reconstructed images\n",
        "            axes[1,i].imshow(reconstructed[i].cpu().numpy().squeeze(), cmap='gray')\n",
        "            axes[1,i].axis('off')\n",
        "\n",
        "        plt.tight_layout()\n",
        "        plt.show()\n",
        "\n",
        "# Visualize results\n",
        "visualize_rebuild(autoencoder, test_dataloader)"
      ],
      "metadata": {
        "colab": {
          "base_uri": "https://localhost:8080/",
          "height": 468
        },
        "id": "7MXgTFvzziNH",
        "outputId": "23030e7e-15ee-45ac-e702-8d92a8efa9a2"
      },
      "execution_count": 16,
      "outputs": [
        {
          "output_type": "display_data",
          "data": {
            "text/plain": [
              "<Figure size 3000x800 with 16 Axes>"
            ],
            "image/png": "[encoded data removed]"
          },
          "metadata": {}
        }
      ]
    }
  ]
}