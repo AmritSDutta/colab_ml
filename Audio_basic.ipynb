{
  "nbformat": 4,
  "nbformat_minor": 0,
  "metadata": {
    "colab": {
      "provenance": [],
      "authorship_tag": "ABX9TyPfdIn2xuI+xVoxmUWSwCds",
      "include_colab_link": true
    },
    "kernelspec": {
      "name": "python3",
      "display_name": "Python 3"
    },
    "language_info": {
      "name": "python"
    }
  },
  "cells": [
    {
      "cell_type": "markdown",
      "metadata": {
        "id": "view-in-github",
        "colab_type": "text"
      },
      "source": [
        "<a href=\"https://colab.research.google.com/github/AmritSDutta/colab_ml/blob/main/Audio_basic.ipynb\" target=\"_parent\"><img src=\"https://colab.research.google.com/assets/colab-badge.svg\" alt=\"Open In Colab\"/></a>"
      ]
    },
    {
      "cell_type": "code",
      "execution_count": 4,
      "metadata": {
        "id": "Oc19Tws7lZdl"
      },
      "outputs": [],
      "source": [
        "%matplotlib inline\n",
        "from pathlib import Path\n",
        "import numpy, scipy, matplotlib.pyplot as plt, sklearn, urllib, IPython.display as ipd\n",
        "import librosa, librosa.display"
      ]
    },
    {
      "cell_type": "code",
      "source": [
        "kick_signals = [\n",
        "    librosa.load(p)[0] for p in Path().glob('audio/drum_samples/train/kick_*.mp3')\n",
        "]\n",
        "snare_signals = [\n",
        "    librosa.load(p)[0] for p in Path().glob('audio/drum_samples/train/snare_*.mp3')\n",
        "]"
      ],
      "metadata": {
        "id": "f_PNYMdMmKnc"
      },
      "execution_count": 5,
      "outputs": []
    },
    {
      "cell_type": "code",
      "source": [
        "plt.figure(figsize=(15, 6))\n",
        "for i, x in enumerate(kick_signals):\n",
        "    plt.subplot(2, 5, i+1)\n",
        "    librosa.display.waveplot(x[:10000])\n",
        "    plt.ylim(-1, 1)\n"
      ],
      "metadata": {
        "colab": {
          "base_uri": "https://localhost:8080/",
          "height": 34
        },
        "id": "Y62ME5pqmXaL",
        "outputId": "ba5e531f-7eaf-421a-baf7-5a912a62a714"
      },
      "execution_count": 10,
      "outputs": [
        {
          "output_type": "display_data",
          "data": {
            "text/plain": [
              "<Figure size 1500x600 with 0 Axes>"
            ]
          },
          "metadata": {}
        }
      ]
    }
  ]
}