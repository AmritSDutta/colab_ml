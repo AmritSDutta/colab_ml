{
  "nbformat": 4,
  "nbformat_minor": 0,
  "metadata": {
    "colab": {
      "provenance": [],
      "gpuType": "T4",
      "authorship_tag": "ABX9TyM4+zntPtFKsWcIK2YxrNeR",
      "include_colab_link": true
    },
    "kernelspec": {
      "name": "python3",
      "display_name": "Python 3"
    },
    "language_info": {
      "name": "python"
    },
    "accelerator": "GPU"
  },
  "cells": [
    {
      "cell_type": "markdown",
      "metadata": {
        "id": "view-in-github",
        "colab_type": "text"
      },
      "source": [
        "<a href=\"https://colab.research.google.com/github/AmritSDutta/colab_ml/blob/main/VariationalAutoencoder.ipynb\" target=\"_parent\"><img src=\"https://colab.research.google.com/assets/colab-badge.svg\" alt=\"Open In Colab\"/></a>"
      ]
    },
    {
      "cell_type": "code",
      "execution_count": 1,
      "metadata": {
        "id": "ACUCs4PL_8eN"
      },
      "outputs": [],
      "source": [
        "import torch; torch.manual_seed(0)\n",
        "import torch.nn as nn\n",
        "import torch.nn.functional as F\n",
        "import torch.utils\n",
        "import torch.distributions\n",
        "import torchvision\n",
        "import numpy as np\n",
        "import matplotlib.pyplot as plt; plt.rcParams['figure.dpi'] = 200"
      ]
    },
    {
      "cell_type": "markdown",
      "source": [
        "Check MultivariateNormal"
      ],
      "metadata": {
        "id": "HIH4pZ4jdazf"
      }
    },
    {
      "cell_type": "code",
      "source": [
        "from torch.distributions import MultivariateNormal\n",
        "\n",
        "mean = torch.tensor([0.0259, 0.0057])\n",
        "logvar = torch.tensor([ 0.0084, -0.0500])\n",
        "var = torch.exp(logvar)\n",
        "print(var)\n",
        "print(torch.diag(var))\n",
        "mvn = MultivariateNormal(mean, torch.diag(var))\n",
        "\n",
        "sample = mvn.sample()\n",
        "print(f'sample: {sample}')"
      ],
      "metadata": {
        "colab": {
          "base_uri": "https://localhost:8080/"
        },
        "id": "NUeRF0PudVvK",
        "outputId": "ebacef3b-6b9e-4373-c0e5-3060317d9f4a"
      },
      "execution_count": 2,
      "outputs": [
        {
          "output_type": "stream",
          "name": "stdout",
          "text": [
            "tensor([1.0084, 0.9512])\n",
            "tensor([[1.0084, 0.0000],\n",
            "        [0.0000, 0.9512]])\n",
            "sample: tensor([ 1.5734, -0.2805])\n"
          ]
        }
      ]
    },
    {
      "cell_type": "code",
      "source": [
        "device = 'cuda' if torch.accelerator.is_available() else 'cpu'\n",
        "latent_dimension = 16\n",
        "print(device)"
      ],
      "metadata": {
        "id": "pWs3Qwl9AFrr",
        "colab": {
          "base_uri": "https://localhost:8080/"
        },
        "outputId": "a30f8c7d-b83d-4fb5-f28f-49d9508126e9"
      },
      "execution_count": 62,
      "outputs": [
        {
          "output_type": "stream",
          "name": "stdout",
          "text": [
            "cuda\n"
          ]
        }
      ]
    },
    {
      "cell_type": "code",
      "source": [
        "data = torch.utils.data.DataLoader(\n",
        "        torchvision.datasets.MNIST('./data',\n",
        "               transform=torchvision.transforms.ToTensor(),\n",
        "               download=True),\n",
        "        batch_size=32,\n",
        "        shuffle=True)"
      ],
      "metadata": {
        "colab": {
          "base_uri": "https://localhost:8080/"
        },
        "id": "bj1mbSGt2rvg",
        "outputId": "a2cc28ac-c13f-45d7-9a58-eb473a42dfac"
      },
      "execution_count": 4,
      "outputs": [
        {
          "output_type": "stream",
          "name": "stderr",
          "text": [
            "100%|██████████| 9.91M/9.91M [00:01<00:00, 5.11MB/s]\n",
            "100%|██████████| 28.9k/28.9k [00:00<00:00, 58.5kB/s]\n",
            "100%|██████████| 1.65M/1.65M [00:06<00:00, 244kB/s]\n",
            "100%|██████████| 4.54k/4.54k [00:00<00:00, 7.33MB/s]\n"
          ]
        }
      ]
    },
    {
      "cell_type": "code",
      "source": [
        "train_dataset = torchvision.datasets.MNIST(root='data', train=True, transform=torchvision.transforms.ToTensor())\n",
        "\n",
        "train_dataloader = torch.utils.data.DataLoader(\n",
        "        train_dataset, batch_size=32, shuffle=True)"
      ],
      "metadata": {
        "id": "W8AhBtCl2YFI"
      },
      "execution_count": 5,
      "outputs": []
    },
    {
      "cell_type": "code",
      "source": [
        "test_dataset = torchvision.datasets.MNIST(root='data', train=False, transform=torchvision.transforms.ToTensor())\n",
        "\n",
        "test_dataloader = torch.utils.data.DataLoader(\n",
        "        test_dataset, batch_size=32, shuffle=True)"
      ],
      "metadata": {
        "id": "hmFU9qVv2V9o"
      },
      "execution_count": 6,
      "outputs": []
    },
    {
      "cell_type": "code",
      "source": [
        "def get_sample(codings):\n",
        "  mean, logvar = codings\n",
        "  var = torch.exp(logvar)\n",
        "  cov = torch.diag_embed(var)\n",
        "  dist = torch.distributions.MultivariateNormal(mean, cov)\n",
        "  return dist.rsample()\n",
        "\n"
      ],
      "metadata": {
        "id": "3T7CsjkUEUgP"
      },
      "execution_count": 7,
      "outputs": []
    },
    {
      "cell_type": "code",
      "source": [
        "class VariationalEncoderV1(nn.Module):\n",
        "    def __init__(self, latent_dim):\n",
        "        super(VariationalEncoderV1, self).__init__()\n",
        "        self.first = nn.Sequential(\n",
        "            nn.Conv2d(1, 32, kernel_size=3, stride=2, padding=1),\n",
        "            nn.AvgPool2d(kernel_size=3, stride=2, padding=1),\n",
        "            nn.ReLU(),\n",
        "            nn.Conv2d(32, 64, kernel_size=3, stride=2, padding=1),\n",
        "            nn.AvgPool2d(kernel_size=3, stride=2, padding=1),\n",
        "        )\n",
        "\n",
        "        self.mean_base = nn.Sequential(\n",
        "            nn.Linear(256, 392),\n",
        "            nn.ReLU(),\n",
        "            nn.Linear(392, latent_dim)\n",
        "        )\n",
        "\n",
        "        self.variance_base = nn.Sequential(\n",
        "            nn.Linear(256, 392),\n",
        "            nn.ReLU(),\n",
        "            nn.Linear(392, latent_dim)\n",
        "        )\n",
        "\n",
        "\n",
        "\n",
        "    def forward(self, x):\n",
        "            x= self.first(x)\n",
        "            x= F.relu(x)\n",
        "            x = x.reshape((-1, 256))\n",
        "            mu = self.mean_base(x) # mu for the latent image data distribution\n",
        "            logvar = self.variance_base(x) # assuming this is log of variation , as we will later optimize on the exponential value of this,\n",
        "            x = get_sample((mu, logvar)) # we will be passing the sample generated from mu and sigma , not original image\n",
        "            return x, mu, logvar"
      ],
      "metadata": {
        "id": "-VMwdJ58AV3F"
      },
      "execution_count": 8,
      "outputs": []
    },
    {
      "cell_type": "code",
      "source": [
        "encoded, mu, logvar = VariationalEncoderV1(latent_dimension)(torch.randn(1,1,28,28))"
      ],
      "metadata": {
        "id": "bizbq8UyJVmB"
      },
      "execution_count": 9,
      "outputs": []
    },
    {
      "cell_type": "code",
      "source": [
        "class VariationalDecoderV1(nn.Module):\n",
        "    def __init__(self, latent_dim):\n",
        "        super(VariationalDecoderV1, self).__init__()\n",
        "        self.first = nn.Sequential(\n",
        "            nn.Linear(latent_dim, 392),\n",
        "            nn.ReLU(),\n",
        "            nn.Linear(392, 784),\n",
        "            nn.Sigmoid()\n",
        "        )\n",
        "\n",
        "    def forward(self, x):\n",
        "        x= self.first(x)\n",
        "        decoded = x\n",
        "        return decoded.reshape((-1, 1, 28, 28))\n"
      ],
      "metadata": {
        "id": "V6u2XE3qBTZk"
      },
      "execution_count": 60,
      "outputs": []
    },
    {
      "cell_type": "code",
      "source": [
        "decoded = VariationalDecoderV1(latent_dimension)(encoded)"
      ],
      "metadata": {
        "id": "awdnPPwxKghD"
      },
      "execution_count": 11,
      "outputs": []
    },
    {
      "cell_type": "code",
      "source": [
        "def custom_loss_function(x, x_hat, mean, log_var):\n",
        "    reproduction_loss = F.mse_loss(x_hat, x, reduction='sum')\n",
        "    KLD = - 0.5 * torch.sum(1+ log_var - mean.pow(2) - log_var.exp()) # comaperes two distribution\n",
        "\n",
        "    return reproduction_loss + KLD"
      ],
      "metadata": {
        "id": "LPDSyavgVZJ6"
      },
      "execution_count": 50,
      "outputs": []
    },
    {
      "cell_type": "code",
      "source": [
        "enc = VariationalEncoderV1(latent_dimension)\n",
        "dec = VariationalDecoderV1(latent_dimension)"
      ],
      "metadata": {
        "id": "LpcNZZO0vPfH"
      },
      "execution_count": 64,
      "outputs": []
    },
    {
      "cell_type": "code",
      "source": [
        "class VariationalAutoEncoderV1(nn.Module):\n",
        "    def __init__(self, latent_dim):\n",
        "        super(VariationalAutoEncoderV1, self).__init__()\n",
        "        self.encoder = enc\n",
        "        self.decoder = dec\n",
        "\n",
        "    def forward(self, x):\n",
        "        encoded, mu, logvar = self.encoder(x)\n",
        "        decoded = self.decoder(encoded) # we are using only the sample generated from mu and sigma , not original image\n",
        "        return decoded, mu, logvar\n"
      ],
      "metadata": {
        "id": "h4_s0IGWCEb9"
      },
      "execution_count": 65,
      "outputs": []
    },
    {
      "cell_type": "code",
      "source": [
        "def train(model, data, epochs=15):\n",
        "    opt = torch.optim.Adam(model.parameters(), lr=1e-3, weight_decay=0.001)\n",
        "    model.to(device)\n",
        "    model.train()\n",
        "    for epoch in range(epochs):\n",
        "        for x, y in data:\n",
        "            x = x.to(device)\n",
        "\n",
        "            opt.zero_grad()\n",
        "            x_hat, mu, logvar = model(x)\n",
        "            loss = custom_loss_function(x, x_hat, mu, logvar)\n",
        "\n",
        "            loss.backward()\n",
        "            opt.step()\n",
        "        print(f'epoch: {epoch} , loss: {loss}')\n",
        "    return model, mu, logvar"
      ],
      "metadata": {
        "id": "b9WKPD5AAozM"
      },
      "execution_count": 66,
      "outputs": []
    },
    {
      "cell_type": "code",
      "source": [
        "latent_dims = 16\n",
        "variational_autoencoder_model = VariationalAutoEncoderV1(latent_dimension).to(device)\n",
        "autoencoder, mu, logvar = train(variational_autoencoder_model, train_dataloader)\n",
        "torch.save({'mu': mu, 'logvar': logvar}, 'vae_params.pt')  # just save the mu and sigma for future use"
      ],
      "metadata": {
        "colab": {
          "base_uri": "https://localhost:8080/"
        },
        "id": "rxyti8G9Aska",
        "outputId": "692086ce-5f81-4d55-9429-3875333e1e8f"
      },
      "execution_count": 67,
      "outputs": [
        {
          "output_type": "stream",
          "name": "stdout",
          "text": [
            "epoch: 0 , loss: 1296.4256591796875\n",
            "epoch: 1 , loss: 1119.590087890625\n",
            "epoch: 2 , loss: 1167.74658203125\n",
            "epoch: 3 , loss: 1083.6307373046875\n",
            "epoch: 4 , loss: 1139.31591796875\n",
            "epoch: 5 , loss: 1070.530029296875\n",
            "epoch: 6 , loss: 983.240478515625\n",
            "epoch: 7 , loss: 988.052001953125\n",
            "epoch: 8 , loss: 989.4619140625\n",
            "epoch: 9 , loss: 887.970947265625\n",
            "epoch: 10 , loss: 952.737060546875\n",
            "epoch: 11 , loss: 1018.6785888671875\n",
            "epoch: 12 , loss: 841.8548583984375\n",
            "epoch: 13 , loss: 1012.229736328125\n",
            "epoch: 14 , loss: 903.5296630859375\n"
          ]
        }
      ]
    },
    {
      "cell_type": "code",
      "source": [
        "vae_params = torch.load('vae_params.pt')\n",
        "mu = vae_params['mu'].to(device)\n",
        "logvar = vae_params['logvar'].to(device)\n",
        "\n",
        "sampled_data = get_sample((mu, logvar))  # generated sample from saved  mu and sigma\n",
        "\n",
        "generated= variational_autoencoder_model.decoder(sampled_data.to(device)) # use the decoder from trained model to generate new data from sample\n",
        "\n",
        "fig, axes = plt.subplots(1, 1, figsize=(3, 1))\n",
        "axes.imshow(generated[0].cpu().detach().numpy().squeeze(), cmap='gray')\n",
        "axes.axis('off')"
      ],
      "metadata": {
        "colab": {
          "base_uri": "https://localhost:8080/",
          "height": 228
        },
        "id": "E-zyssmGgRpP",
        "outputId": "6024b27a-d294-45e2-c63d-70bf4e0fe6ac"
      },
      "execution_count": 84,
      "outputs": [
        {
          "output_type": "execute_result",
          "data": {
            "text/plain": [
              "(np.float64(-0.5), np.float64(27.5), np.float64(27.5), np.float64(-0.5))"
            ]
          },
          "metadata": {},
          "execution_count": 84
        },
        {
          "output_type": "display_data",
          "data": {
            "text/plain": [
              "<Figure size 600x200 with 1 Axes>"
            ],
            "image/png": "[encoded data removed]"
          },
          "metadata": {}
        }
      ]
    },
    {
      "cell_type": "code",
      "source": [
        "def visualize_rebuild(model, data_loader):\n",
        "    model.eval()\n",
        "    with torch.no_grad():\n",
        "        images, _ = next(iter(data_loader))\n",
        "        images = images.to(device)\n",
        "        reconstructed,_,_ = model(images)\n",
        "\n",
        "        # Plot original vs reconstructed images\n",
        "        fig, axes = plt.subplots(2, 8, figsize=(15, 4))\n",
        "        for i in range(8):\n",
        "            # Original images\n",
        "            axes[0,i].imshow(images[i].cpu().numpy().squeeze(), cmap='gray')\n",
        "            axes[0,i].axis('off')\n",
        "\n",
        "            # Reconstructed images\n",
        "            axes[1,i].imshow(reconstructed[i].cpu().numpy().squeeze(), cmap='gray')\n",
        "            axes[1,i].axis('off')\n",
        "\n",
        "        plt.tight_layout()\n",
        "        plt.show()\n",
        "\n",
        "# Visualize results\n",
        "visualize_rebuild(variational_autoencoder_model, test_dataloader)"
      ],
      "metadata": {
        "colab": {
          "base_uri": "https://localhost:8080/",
          "height": 468
        },
        "id": "7MXgTFvzziNH",
        "outputId": "d5710178-95da-47c7-8011-4e5efa97c63a"
      },
      "execution_count": 85,
      "outputs": [
        {
          "output_type": "display_data",
          "data": {
            "text/plain": [
              "<Figure size 3000x800 with 16 Axes>"
            ],
            "image/png": "[encoded data removed]"
          },
          "metadata": {}
        }
      ]
    }
  ]
}