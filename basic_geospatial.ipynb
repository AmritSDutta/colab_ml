{
  "nbformat": 4,
  "nbformat_minor": 0,
  "metadata": {
    "colab": {
      "provenance": [],
      "authorship_tag": "ABX9TyOpxX2eWbcERgN0EcKWRyAf",
      "include_colab_link": true
    },
    "kernelspec": {
      "name": "python3",
      "display_name": "Python 3"
    },
    "language_info": {
      "name": "python"
    }
  },
  "cells": [
    {
      "cell_type": "markdown",
      "metadata": {
        "id": "view-in-github",
        "colab_type": "text"
      },
      "source": [
        "<a href=\"https://colab.research.google.com/github/AmritSDutta/colab_ml/blob/main/basic_geospatial.ipynb\" target=\"_parent\"><img src=\"https://colab.research.google.com/assets/colab-badge.svg\" alt=\"Open In Colab\"/></a>"
      ]
    },
    {
      "cell_type": "code",
      "execution_count": 5,
      "metadata": {
        "id": "ix1H4uYXI-en"
      },
      "outputs": [],
      "source": [
        "import time\n",
        "from tqdm import tqdm\n",
        "\n",
        "import pandas as pd\n",
        "import geopandas as gpd\n",
        "from shapely.geometry import Point\n",
        "import requests"
      ]
    },
    {
      "cell_type": "code",
      "source": [
        "#Sample data\n",
        "df = pd.read_csv(r'cities.csv')\n",
        "print(df.head(5))"
      ],
      "metadata": {
        "colab": {
          "base_uri": "https://localhost:8080/"
        },
        "id": "swZ8g5ukJPX0",
        "outputId": "ae5b5877-3178-4678-98c1-fbfe64dbd957"
      },
      "execution_count": 61,
      "outputs": [
        {
          "output_type": "stream",
          "name": "stdout",
          "text": [
            "   id         name country  latitude  longitude  population\n",
            "0   1        Bombo     UGA    0.5833    32.5333       75000\n",
            "1   2  Fort Portal     UGA    0.6710    30.2750       42670\n",
            "2   3      Potenza     ITA   40.6420    15.7990       69060\n",
            "3   4   Campobasso     ITA   41.5630    14.6560       50762\n",
            "4   5        Aosta     ITA   45.7370     7.3150       34062\n"
          ]
        }
      ]
    },
    {
      "cell_type": "markdown",
      "source": [
        "**Add elevation**"
      ],
      "metadata": {
        "id": "P95vO_CAKTWM"
      }
    },
    {
      "cell_type": "code",
      "source": [
        "df.rename(columns={'latitude': 'lat', 'longitude': 'lon'}, inplace=True)\n",
        "elevations = []\n",
        "for index, row in tqdm(df.iterrows()):\n",
        "    lat, lon = (row['lat'], row['lon'])\n",
        "    # changeable URL\n",
        "    url = f\"https://api.opentopodata.org/v1/aster30m?locations={lat},{lon}\"\n",
        "    r = requests.get(url)\n",
        "    data = r.json()\n",
        "    if data.get('results') and len(data['results']) > 0:\n",
        "      elevation = data['results'][0]['elevation']\n",
        "    else:\n",
        "      elevation = None\n",
        "    elevations.append(elevation)\n",
        "    time.sleep(0.8)\n",
        "    if index % 100 == 0:\n",
        "        print(f\"Processed {index} rows\")\n",
        "        time.sleep(2.5)\n",
        "\n",
        "\n",
        "df['elevation'] = elevations\n",
        "print(df.head(5))\n",
        "df.to_csv('city_elevation.csv', index=True)"
      ],
      "metadata": {
        "colab": {
          "base_uri": "https://localhost:8080/"
        },
        "id": "tmTI6sqyJrMN",
        "outputId": "84907fed-a1a2-445a-dd34-65bd12ee6c57"
      },
      "execution_count": 63,
      "outputs": [
        {
          "output_type": "stream",
          "name": "stderr",
          "text": [
            "\r0it [00:00, ?it/s]"
          ]
        },
        {
          "output_type": "stream",
          "name": "stdout",
          "text": [
            "Processed 0 rows\n"
          ]
        },
        {
          "output_type": "stream",
          "name": "stderr",
          "text": [
            "100it [01:54,  1.08s/it]"
          ]
        },
        {
          "output_type": "stream",
          "name": "stdout",
          "text": [
            "Processed 100 rows\n"
          ]
        },
        {
          "output_type": "stream",
          "name": "stderr",
          "text": [
            "200it [03:45,  1.13s/it]"
          ]
        },
        {
          "output_type": "stream",
          "name": "stdout",
          "text": [
            "Processed 200 rows\n"
          ]
        },
        {
          "output_type": "stream",
          "name": "stderr",
          "text": [
            "300it [05:38,  1.08s/it]"
          ]
        },
        {
          "output_type": "stream",
          "name": "stdout",
          "text": [
            "Processed 300 rows\n"
          ]
        },
        {
          "output_type": "stream",
          "name": "stderr",
          "text": [
            "400it [07:30,  1.13s/it]"
          ]
        },
        {
          "output_type": "stream",
          "name": "stdout",
          "text": [
            "Processed 400 rows\n"
          ]
        },
        {
          "output_type": "stream",
          "name": "stderr",
          "text": [
            "500it [09:22,  1.07s/it]"
          ]
        },
        {
          "output_type": "stream",
          "name": "stdout",
          "text": [
            "Processed 500 rows\n"
          ]
        },
        {
          "output_type": "stream",
          "name": "stderr",
          "text": [
            "600it [11:14,  1.11s/it]"
          ]
        },
        {
          "output_type": "stream",
          "name": "stdout",
          "text": [
            "Processed 600 rows\n"
          ]
        },
        {
          "output_type": "stream",
          "name": "stderr",
          "text": [
            "700it [13:07,  1.10s/it]"
          ]
        },
        {
          "output_type": "stream",
          "name": "stdout",
          "text": [
            "Processed 700 rows\n"
          ]
        },
        {
          "output_type": "stream",
          "name": "stderr",
          "text": [
            "800it [15:00,  1.09s/it]"
          ]
        },
        {
          "output_type": "stream",
          "name": "stdout",
          "text": [
            "Processed 800 rows\n"
          ]
        },
        {
          "output_type": "stream",
          "name": "stderr",
          "text": [
            "900it [16:52,  1.09s/it]"
          ]
        },
        {
          "output_type": "stream",
          "name": "stdout",
          "text": [
            "Processed 900 rows\n"
          ]
        },
        {
          "output_type": "stream",
          "name": "stderr",
          "text": [
            "1000it [18:45,  1.09s/it]"
          ]
        },
        {
          "output_type": "stream",
          "name": "stdout",
          "text": [
            "Processed 1000 rows\n"
          ]
        },
        {
          "output_type": "stream",
          "name": "stderr",
          "text": [
            "1100it [20:37,  1.09s/it]"
          ]
        },
        {
          "output_type": "stream",
          "name": "stdout",
          "text": [
            "Processed 1100 rows\n"
          ]
        },
        {
          "output_type": "stream",
          "name": "stderr",
          "text": [
            "1200it [22:28,  1.09s/it]"
          ]
        },
        {
          "output_type": "stream",
          "name": "stdout",
          "text": [
            "Processed 1200 rows\n"
          ]
        },
        {
          "output_type": "stream",
          "name": "stderr",
          "text": [
            "1249it [23:24,  1.12s/it]"
          ]
        },
        {
          "output_type": "stream",
          "name": "stdout",
          "text": [
            "   id         name country      lat      lon  population  elevation\n",
            "0   1        Bombo     UGA   0.5833  32.5333       75000     1191.0\n",
            "1   2  Fort Portal     UGA   0.6710  30.2750       42670     1517.0\n",
            "2   3      Potenza     ITA  40.6420  15.7990       69060      714.0\n",
            "3   4   Campobasso     ITA  41.5630  14.6560       50762      768.0\n",
            "4   5        Aosta     ITA  45.7370   7.3150       34062      575.0\n"
          ]
        },
        {
          "output_type": "stream",
          "name": "stderr",
          "text": [
            "\n"
          ]
        }
      ]
    },
    {
      "cell_type": "code",
      "source": [
        "# Create GeoDataFrame\n",
        "geometry = [Point(xy) for xy in zip(df['lon'], df['lat'])]\n",
        "gdf = gpd.GeoDataFrame(df, geometry=geometry, crs='EPSG:4326')\n",
        "gdf.head()"
      ],
      "metadata": {
        "colab": {
          "base_uri": "https://localhost:8080/",
          "height": 206
        },
        "id": "JSguSK8eKSIP",
        "outputId": "35757985-8955-4607-ee92-81dde180996e"
      },
      "execution_count": 64,
      "outputs": [
        {
          "output_type": "execute_result",
          "data": {
            "text/plain": [
              "   id         name country      lat      lon  population  elevation  \\\n",
              "0   1        Bombo     UGA   0.5833  32.5333       75000     1191.0   \n",
              "1   2  Fort Portal     UGA   0.6710  30.2750       42670     1517.0   \n",
              "2   3      Potenza     ITA  40.6420  15.7990       69060      714.0   \n",
              "3   4   Campobasso     ITA  41.5630  14.6560       50762      768.0   \n",
              "4   5        Aosta     ITA  45.7370   7.3150       34062      575.0   \n",
              "\n",
              "                 geometry  \n",
              "0  POINT (32.5333 0.5833)  \n",
              "1    POINT (30.275 0.671)  \n",
              "2   POINT (15.799 40.642)  \n",
              "3   POINT (14.656 41.563)  \n",
              "4    POINT (7.315 45.737)  "
            ],
            "text/html": [
              "\n",
              "  <div id=\"df-4d0fd285-718a-4e0f-99f3-119c843a4309\" class=\"colab-df-container\">\n",
              "    <div>\n",
              "<style scoped>\n",
              "    .dataframe tbody tr th:only-of-type {\n",
              "        vertical-align: middle;\n",
              "    }\n",
              "\n",
              "    .dataframe tbody tr th {\n",
              "        vertical-align: top;\n",
              "    }\n",
              "\n",
              "    .dataframe thead th {\n",
              "        text-align: right;\n",
              "    }\n",
              "</style>\n",
              "<table border=\"1\" class=\"dataframe\">\n",
              "  <thead>\n",
              "    <tr style=\"text-align: right;\">\n",
              "      <th></th>\n",
              "      <th>id</th>\n",
              "      <th>name</th>\n",
              "      <th>country</th>\n",
              "      <th>lat</th>\n",
              "      <th>lon</th>\n",
              "      <th>population</th>\n",
              "      <th>elevation</th>\n",
              "      <th>geometry</th>\n",
              "    </tr>\n",
              "  </thead>\n",
              "  <tbody>\n",
              "    <tr>\n",
              "      <th>0</th>\n",
              "      <td>1</td>\n",
              "      <td>Bombo</td>\n",
              "      <td>UGA</td>\n",
              "      <td>0.5833</td>\n",
              "      <td>32.5333</td>\n",
              "      <td>75000</td>\n",
              "      <td>1191.0</td>\n",
              "      <td>POINT (32.5333 0.5833)</td>\n",
              "    </tr>\n",
              "    <tr>\n",
              "      <th>1</th>\n",
              "      <td>2</td>\n",
              "      <td>Fort Portal</td>\n",
              "      <td>UGA</td>\n",
              "      <td>0.6710</td>\n",
              "      <td>30.2750</td>\n",
              "      <td>42670</td>\n",
              "      <td>1517.0</td>\n",
              "      <td>POINT (30.275 0.671)</td>\n",
              "    </tr>\n",
              "    <tr>\n",
              "      <th>2</th>\n",
              "      <td>3</td>\n",
              "      <td>Potenza</td>\n",
              "      <td>ITA</td>\n",
              "      <td>40.6420</td>\n",
              "      <td>15.7990</td>\n",
              "      <td>69060</td>\n",
              "      <td>714.0</td>\n",
              "      <td>POINT (15.799 40.642)</td>\n",
              "    </tr>\n",
              "    <tr>\n",
              "      <th>3</th>\n",
              "      <td>4</td>\n",
              "      <td>Campobasso</td>\n",
              "      <td>ITA</td>\n",
              "      <td>41.5630</td>\n",
              "      <td>14.6560</td>\n",
              "      <td>50762</td>\n",
              "      <td>768.0</td>\n",
              "      <td>POINT (14.656 41.563)</td>\n",
              "    </tr>\n",
              "    <tr>\n",
              "      <th>4</th>\n",
              "      <td>5</td>\n",
              "      <td>Aosta</td>\n",
              "      <td>ITA</td>\n",
              "      <td>45.7370</td>\n",
              "      <td>7.3150</td>\n",
              "      <td>34062</td>\n",
              "      <td>575.0</td>\n",
              "      <td>POINT (7.315 45.737)</td>\n",
              "    </tr>\n",
              "  </tbody>\n",
              "</table>\n",
              "</div>\n",
              "    <div class=\"colab-df-buttons\">\n",
              "\n",
              "  <div class=\"colab-df-container\">\n",
              "    <button class=\"colab-df-convert\" onclick=\"convertToInteractive('df-4d0fd285-718a-4e0f-99f3-119c843a4309')\"\n",
              "            title=\"Convert this dataframe to an interactive table.\"\n",
              "            style=\"display:none;\">\n",
              "\n",
              "  <svg xmlns=\"http://www.w3.org/2000/svg\" height=\"24px\" viewBox=\"0 -960 960 960\">\n",
              "    <path d=\"M120-120v-720h720v720H120Zm60-500h600v-160H180v160Zm220 220h160v-160H400v160Zm0 220h160v-160H400v160ZM180-400h160v-160H180v160Zm440 0h160v-160H620v160ZM180-180h160v-160H180v160Zm440 0h160v-160H620v160Z\"/>\n",
              "  </svg>\n",
              "    </button>\n",
              "\n",
              "  <style>\n",
              "    .colab-df-container {\n",
              "      display:flex;\n",
              "      gap: 12px;\n",
              "    }\n",
              "\n",
              "    .colab-df-convert {\n",
              "      background-color: #E8F0FE;\n",
              "      border: none;\n",
              "      border-radius: 50%;\n",
              "      cursor: pointer;\n",
              "      display: none;\n",
              "      fill: #1967D2;\n",
              "      height: 32px;\n",
              "      padding: 0 0 0 0;\n",
              "      width: 32px;\n",
              "    }\n",
              "\n",
              "    .colab-df-convert:hover {\n",
              "      background-color: #E2EBFA;\n",
              "      box-shadow: 0px 1px 2px rgba(60, 64, 67, 0.3), 0px 1px 3px 1px rgba(60, 64, 67, 0.15);\n",
              "      fill: #174EA6;\n",
              "    }\n",
              "\n",
              "    .colab-df-buttons div {\n",
              "      margin-bottom: 4px;\n",
              "    }\n",
              "\n",
              "    [theme=dark] .colab-df-convert {\n",
              "      background-color: #3B4455;\n",
              "      fill: #D2E3FC;\n",
              "    }\n",
              "\n",
              "    [theme=dark] .colab-df-convert:hover {\n",
              "      background-color: #434B5C;\n",
              "      box-shadow: 0px 1px 3px 1px rgba(0, 0, 0, 0.15);\n",
              "      filter: drop-shadow(0px 1px 2px rgba(0, 0, 0, 0.3));\n",
              "      fill: #FFFFFF;\n",
              "    }\n",
              "  </style>\n",
              "\n",
              "    <script>\n",
              "      const buttonEl =\n",
              "        document.querySelector('#df-4d0fd285-718a-4e0f-99f3-119c843a4309 button.colab-df-convert');\n",
              "      buttonEl.style.display =\n",
              "        google.colab.kernel.accessAllowed ? 'block' : 'none';\n",
              "\n",
              "      async function convertToInteractive(key) {\n",
              "        const element = document.querySelector('#df-4d0fd285-718a-4e0f-99f3-119c843a4309');\n",
              "        const dataTable =\n",
              "          await google.colab.kernel.invokeFunction('convertToInteractive',\n",
              "                                                    [key], {});\n",
              "        if (!dataTable) return;\n",
              "\n",
              "        const docLinkHtml = 'Like what you see? Visit the ' +\n",
              "          '<a target=\"_blank\" href=https://colab.research.google.com/notebooks/data_table.ipynb>data table notebook</a>'\n",
              "          + ' to learn more about interactive tables.';\n",
              "        element.innerHTML = '';\n",
              "        dataTable['output_type'] = 'display_data';\n",
              "        await google.colab.output.renderOutput(dataTable, element);\n",
              "        const docLink = document.createElement('div');\n",
              "        docLink.innerHTML = docLinkHtml;\n",
              "        element.appendChild(docLink);\n",
              "      }\n",
              "    </script>\n",
              "  </div>\n",
              "\n",
              "\n",
              "    <div id=\"df-1e3d78b8-3fd3-454f-928c-045c0f07e515\">\n",
              "      <button class=\"colab-df-quickchart\" onclick=\"quickchart('df-1e3d78b8-3fd3-454f-928c-045c0f07e515')\"\n",
              "                title=\"Suggest charts\"\n",
              "                style=\"display:none;\">\n",
              "\n",
              "<svg xmlns=\"http://www.w3.org/2000/svg\" height=\"24px\"viewBox=\"0 0 24 24\"\n",
              "     width=\"24px\">\n",
              "    <g>\n",
              "        <path d=\"M19 3H5c-1.1 0-2 .9-2 2v14c0 1.1.9 2 2 2h14c1.1 0 2-.9 2-2V5c0-1.1-.9-2-2-2zM9 17H7v-7h2v7zm4 0h-2V7h2v10zm4 0h-2v-4h2v4z\"/>\n",
              "    </g>\n",
              "</svg>\n",
              "      </button>\n",
              "\n",
              "<style>\n",
              "  .colab-df-quickchart {\n",
              "      --bg-color: #E8F0FE;\n",
              "      --fill-color: #1967D2;\n",
              "      --hover-bg-color: #E2EBFA;\n",
              "      --hover-fill-color: #174EA6;\n",
              "      --disabled-fill-color: #AAA;\n",
              "      --disabled-bg-color: #DDD;\n",
              "  }\n",
              "\n",
              "  [theme=dark] .colab-df-quickchart {\n",
              "      --bg-color: #3B4455;\n",
              "      --fill-color: #D2E3FC;\n",
              "      --hover-bg-color: #434B5C;\n",
              "      --hover-fill-color: #FFFFFF;\n",
              "      --disabled-bg-color: #3B4455;\n",
              "      --disabled-fill-color: #666;\n",
              "  }\n",
              "\n",
              "  .colab-df-quickchart {\n",
              "    background-color: var(--bg-color);\n",
              "    border: none;\n",
              "    border-radius: 50%;\n",
              "    cursor: pointer;\n",
              "    display: none;\n",
              "    fill: var(--fill-color);\n",
              "    height: 32px;\n",
              "    padding: 0;\n",
              "    width: 32px;\n",
              "  }\n",
              "\n",
              "  .colab-df-quickchart:hover {\n",
              "    background-color: var(--hover-bg-color);\n",
              "    box-shadow: 0 1px 2px rgba(60, 64, 67, 0.3), 0 1px 3px 1px rgba(60, 64, 67, 0.15);\n",
              "    fill: var(--button-hover-fill-color);\n",
              "  }\n",
              "\n",
              "  .colab-df-quickchart-complete:disabled,\n",
              "  .colab-df-quickchart-complete:disabled:hover {\n",
              "    background-color: var(--disabled-bg-color);\n",
              "    fill: var(--disabled-fill-color);\n",
              "    box-shadow: none;\n",
              "  }\n",
              "\n",
              "  .colab-df-spinner {\n",
              "    border: 2px solid var(--fill-color);\n",
              "    border-color: transparent;\n",
              "    border-bottom-color: var(--fill-color);\n",
              "    animation:\n",
              "      spin 1s steps(1) infinite;\n",
              "  }\n",
              "\n",
              "  @keyframes spin {\n",
              "    0% {\n",
              "      border-color: transparent;\n",
              "      border-bottom-color: var(--fill-color);\n",
              "      border-left-color: var(--fill-color);\n",
              "    }\n",
              "    20% {\n",
              "      border-color: transparent;\n",
              "      border-left-color: var(--fill-color);\n",
              "      border-top-color: var(--fill-color);\n",
              "    }\n",
              "    30% {\n",
              "      border-color: transparent;\n",
              "      border-left-color: var(--fill-color);\n",
              "      border-top-color: var(--fill-color);\n",
              "      border-right-color: var(--fill-color);\n",
              "    }\n",
              "    40% {\n",
              "      border-color: transparent;\n",
              "      border-right-color: var(--fill-color);\n",
              "      border-top-color: var(--fill-color);\n",
              "    }\n",
              "    60% {\n",
              "      border-color: transparent;\n",
              "      border-right-color: var(--fill-color);\n",
              "    }\n",
              "    80% {\n",
              "      border-color: transparent;\n",
              "      border-right-color: var(--fill-color);\n",
              "      border-bottom-color: var(--fill-color);\n",
              "    }\n",
              "    90% {\n",
              "      border-color: transparent;\n",
              "      border-bottom-color: var(--fill-color);\n",
              "    }\n",
              "  }\n",
              "</style>\n",
              "\n",
              "      <script>\n",
              "        async function quickchart(key) {\n",
              "          const quickchartButtonEl =\n",
              "            document.querySelector('#' + key + ' button');\n",
              "          quickchartButtonEl.disabled = true;  // To prevent multiple clicks.\n",
              "          quickchartButtonEl.classList.add('colab-df-spinner');\n",
              "          try {\n",
              "            const charts = await google.colab.kernel.invokeFunction(\n",
              "                'suggestCharts', [key], {});\n",
              "          } catch (error) {\n",
              "            console.error('Error during call to suggestCharts:', error);\n",
              "          }\n",
              "          quickchartButtonEl.classList.remove('colab-df-spinner');\n",
              "          quickchartButtonEl.classList.add('colab-df-quickchart-complete');\n",
              "        }\n",
              "        (() => {\n",
              "          let quickchartButtonEl =\n",
              "            document.querySelector('#df-1e3d78b8-3fd3-454f-928c-045c0f07e515 button');\n",
              "          quickchartButtonEl.style.display =\n",
              "            google.colab.kernel.accessAllowed ? 'block' : 'none';\n",
              "        })();\n",
              "      </script>\n",
              "    </div>\n",
              "\n",
              "    </div>\n",
              "  </div>\n"
            ],
            "application/vnd.google.colaboratory.intrinsic+json": {
              "type": "dataframe",
              "variable_name": "gdf",
              "summary": "{\n  \"name\": \"gdf\",\n  \"rows\": 1249,\n  \"fields\": [\n    {\n      \"column\": \"id\",\n      \"properties\": {\n        \"dtype\": \"number\",\n        \"std\": 360,\n        \"min\": 1,\n        \"max\": 1249,\n        \"num_unique_values\": 1249,\n        \"samples\": [\n          680,\n          1051,\n          902\n        ],\n        \"semantic_type\": \"\",\n        \"description\": \"\"\n      }\n    },\n    {\n      \"column\": \"name\",\n      \"properties\": {\n        \"dtype\": \"string\",\n        \"num_unique_values\": 1228,\n        \"samples\": [\n          \"Basseterre\",\n          \"Ningbo\",\n          \"Kigali\"\n        ],\n        \"semantic_type\": \"\",\n        \"description\": \"\"\n      }\n    },\n    {\n      \"column\": \"country\",\n      \"properties\": {\n        \"dtype\": \"category\",\n        \"num_unique_values\": 200,\n        \"samples\": [\n          \"ERI\",\n          \"LIE\",\n          \"COM\"\n        ],\n        \"semantic_type\": \"\",\n        \"description\": \"\"\n      }\n    },\n    {\n      \"column\": \"lat\",\n      \"properties\": {\n        \"dtype\": \"number\",\n        \"std\": 31.642143709534352,\n        \"min\": -89.98289,\n        \"max\": 78.21668,\n        \"num_unique_values\": 1228,\n        \"samples\": [\n          17.30203,\n          29.87997,\n          3.85001\n        ],\n        \"semantic_type\": \"\",\n        \"description\": \"\"\n      }\n    },\n    {\n      \"column\": \"lon\",\n      \"properties\": {\n        \"dtype\": \"number\",\n        \"std\": 80.13594617531753,\n        \"min\": -175.22056,\n        \"max\": 179.21665,\n        \"num_unique_values\": 1239,\n        \"samples\": [\n          100.32937,\n          -73.25001,\n          45.6987\n        ],\n        \"semantic_type\": \"\",\n        \"description\": \"\"\n      }\n    },\n    {\n      \"column\": \"population\",\n      \"properties\": {\n        \"dtype\": \"number\",\n        \"std\": 2329439,\n        \"min\": 0,\n        \"max\": 35676000,\n        \"num_unique_values\": 1185,\n        \"samples\": [\n          477090,\n          3305,\n          18845000\n        ],\n        \"semantic_type\": \"\",\n        \"description\": \"\"\n      }\n    },\n    {\n      \"column\": \"elevation\",\n      \"properties\": {\n        \"dtype\": \"number\",\n        \"std\": 569.5458946595916,\n        \"min\": -28.0,\n        \"max\": 3854.0,\n        \"num_unique_values\": 591,\n        \"samples\": [\n          731.0,\n          611.0,\n          763.0\n        ],\n        \"semantic_type\": \"\",\n        \"description\": \"\"\n      }\n    },\n    {\n      \"column\": \"geometry\",\n      \"properties\": {\n        \"dtype\": \"geometry\",\n        \"num_unique_values\": 1249,\n        \"samples\": [\n          \"POINT (89.56 22.83999)\",\n          \"POINT (-64.78394 32.29419)\",\n          \"POINT (-84.08405 9.93501)\"\n        ],\n        \"semantic_type\": \"\",\n        \"description\": \"\"\n      }\n    }\n  ]\n}"
            }
          },
          "metadata": {},
          "execution_count": 64
        }
      ]
    },
    {
      "cell_type": "markdown",
      "source": [
        "**Distance to coastline (approx, using Natural Earth coastline)**"
      ],
      "metadata": {
        "id": "XR5a3ypRKoVN"
      }
    },
    {
      "cell_type": "code",
      "source": [
        "coastline = gpd.read_file(r'ne_110m_coastline.shp')\n",
        "gdf['proximity_to_coast_km'] = gdf.geometry.apply(\n",
        "    lambda city: coastline.distance(city).min() * 111)  # Rough degree to km"
      ],
      "metadata": {
        "id": "wpVKpgFAKpEt"
      },
      "execution_count": 69,
      "outputs": []
    },
    {
      "cell_type": "markdown",
      "source": [
        "**Distance to fresh water (approx, using Natural Earth coastline)**"
      ],
      "metadata": {
        "id": "gzDRFHkfM5Tc"
      }
    },
    {
      "cell_type": "code",
      "source": [
        "# Feature 3: Distance to freshwater (approx, using Natural Earth coastline)\n",
        "freshwaterbody = gpd.read_file(r'ne_110m_rivers_lake_centerlines.shp')\n",
        "gdf['proximity_to_freshwater_km'] = gdf.geometry.apply(\n",
        "    lambda city: freshwaterbody.distance(city).min() * 111)  # Rough degree to km"
      ],
      "metadata": {
        "id": "hbFNLhI2ME-e"
      },
      "execution_count": 70,
      "outputs": []
    },
    {
      "cell_type": "markdown",
      "source": [
        "**Distance to glacier (approx, using Natural Earth coastline)**"
      ],
      "metadata": {
        "id": "3IVSjAgrM73s"
      }
    },
    {
      "cell_type": "code",
      "source": [
        "# Feature 3: Distance to freshwater (approx, using Natural Earth coastline)\n",
        "glacier = gpd.read_file(r'ne_110m_glaciated_areas.shp')\n",
        "gdf['proximity_to_glacier_km'] = gdf.geometry.apply(\n",
        "    lambda city: glacier.distance(city).min() * 111)  # Rough degree to km"
      ],
      "metadata": {
        "id": "58WJ0_rGMMuE"
      },
      "execution_count": 71,
      "outputs": []
    },
    {
      "cell_type": "code",
      "source": [
        "gdf = gdf.rename(columns={'name': 'city'})"
      ],
      "metadata": {
        "id": "DBdS3aiWMa19"
      },
      "execution_count": 72,
      "outputs": []
    },
    {
      "cell_type": "code",
      "source": [
        "gdf[df.isnull().any(axis=1)][:1]"
      ],
      "metadata": {
        "colab": {
          "base_uri": "https://localhost:8080/",
          "height": 135
        },
        "id": "bQX0LD0yizIl",
        "outputId": "a7dd1858-ebaf-47ad-816b-97a721a0d523"
      },
      "execution_count": 87,
      "outputs": [
        {
          "output_type": "execute_result",
          "data": {
            "text/plain": [
              "    id                               city country       lat        lon  \\\n",
              "73  74  AmundsenScott South Pole Station     ATA -89.98289  139.26699   \n",
              "\n",
              "    population  elevation                     geometry  proximity_to_coast_km  \\\n",
              "73         200        NaN  POINT (139.26699 -89.98289)            2488.967597   \n",
              "\n",
              "    proximity_to_freshwater_km  proximity_to_glacier_km  distance_temp  \n",
              "73                11624.024281                      0.0            0.0  "
            ],
            "text/html": [
              "\n",
              "  <div id=\"df-6c57418a-1bd7-4969-9064-1ed5a6b37c0c\" class=\"colab-df-container\">\n",
              "    <div>\n",
              "<style scoped>\n",
              "    .dataframe tbody tr th:only-of-type {\n",
              "        vertical-align: middle;\n",
              "    }\n",
              "\n",
              "    .dataframe tbody tr th {\n",
              "        vertical-align: top;\n",
              "    }\n",
              "\n",
              "    .dataframe thead th {\n",
              "        text-align: right;\n",
              "    }\n",
              "</style>\n",
              "<table border=\"1\" class=\"dataframe\">\n",
              "  <thead>\n",
              "    <tr style=\"text-align: right;\">\n",
              "      <th></th>\n",
              "      <th>id</th>\n",
              "      <th>city</th>\n",
              "      <th>country</th>\n",
              "      <th>lat</th>\n",
              "      <th>lon</th>\n",
              "      <th>population</th>\n",
              "      <th>elevation</th>\n",
              "      <th>geometry</th>\n",
              "      <th>proximity_to_coast_km</th>\n",
              "      <th>proximity_to_freshwater_km</th>\n",
              "      <th>proximity_to_glacier_km</th>\n",
              "      <th>distance_temp</th>\n",
              "    </tr>\n",
              "  </thead>\n",
              "  <tbody>\n",
              "    <tr>\n",
              "      <th>73</th>\n",
              "      <td>74</td>\n",
              "      <td>AmundsenScott South Pole Station</td>\n",
              "      <td>ATA</td>\n",
              "      <td>-89.98289</td>\n",
              "      <td>139.26699</td>\n",
              "      <td>200</td>\n",
              "      <td>NaN</td>\n",
              "      <td>POINT (139.26699 -89.98289)</td>\n",
              "      <td>2488.967597</td>\n",
              "      <td>11624.024281</td>\n",
              "      <td>0.0</td>\n",
              "      <td>0.0</td>\n",
              "    </tr>\n",
              "  </tbody>\n",
              "</table>\n",
              "</div>\n",
              "    <div class=\"colab-df-buttons\">\n",
              "\n",
              "  <div class=\"colab-df-container\">\n",
              "    <button class=\"colab-df-convert\" onclick=\"convertToInteractive('df-6c57418a-1bd7-4969-9064-1ed5a6b37c0c')\"\n",
              "            title=\"Convert this dataframe to an interactive table.\"\n",
              "            style=\"display:none;\">\n",
              "\n",
              "  <svg xmlns=\"http://www.w3.org/2000/svg\" height=\"24px\" viewBox=\"0 -960 960 960\">\n",
              "    <path d=\"M120-120v-720h720v720H120Zm60-500h600v-160H180v160Zm220 220h160v-160H400v160Zm0 220h160v-160H400v160ZM180-400h160v-160H180v160Zm440 0h160v-160H620v160ZM180-180h160v-160H180v160Zm440 0h160v-160H620v160Z\"/>\n",
              "  </svg>\n",
              "    </button>\n",
              "\n",
              "  <style>\n",
              "    .colab-df-container {\n",
              "      display:flex;\n",
              "      gap: 12px;\n",
              "    }\n",
              "\n",
              "    .colab-df-convert {\n",
              "      background-color: #E8F0FE;\n",
              "      border: none;\n",
              "      border-radius: 50%;\n",
              "      cursor: pointer;\n",
              "      display: none;\n",
              "      fill: #1967D2;\n",
              "      height: 32px;\n",
              "      padding: 0 0 0 0;\n",
              "      width: 32px;\n",
              "    }\n",
              "\n",
              "    .colab-df-convert:hover {\n",
              "      background-color: #E2EBFA;\n",
              "      box-shadow: 0px 1px 2px rgba(60, 64, 67, 0.3), 0px 1px 3px 1px rgba(60, 64, 67, 0.15);\n",
              "      fill: #174EA6;\n",
              "    }\n",
              "\n",
              "    .colab-df-buttons div {\n",
              "      margin-bottom: 4px;\n",
              "    }\n",
              "\n",
              "    [theme=dark] .colab-df-convert {\n",
              "      background-color: #3B4455;\n",
              "      fill: #D2E3FC;\n",
              "    }\n",
              "\n",
              "    [theme=dark] .colab-df-convert:hover {\n",
              "      background-color: #434B5C;\n",
              "      box-shadow: 0px 1px 3px 1px rgba(0, 0, 0, 0.15);\n",
              "      filter: drop-shadow(0px 1px 2px rgba(0, 0, 0, 0.3));\n",
              "      fill: #FFFFFF;\n",
              "    }\n",
              "  </style>\n",
              "\n",
              "    <script>\n",
              "      const buttonEl =\n",
              "        document.querySelector('#df-6c57418a-1bd7-4969-9064-1ed5a6b37c0c button.colab-df-convert');\n",
              "      buttonEl.style.display =\n",
              "        google.colab.kernel.accessAllowed ? 'block' : 'none';\n",
              "\n",
              "      async function convertToInteractive(key) {\n",
              "        const element = document.querySelector('#df-6c57418a-1bd7-4969-9064-1ed5a6b37c0c');\n",
              "        const dataTable =\n",
              "          await google.colab.kernel.invokeFunction('convertToInteractive',\n",
              "                                                    [key], {});\n",
              "        if (!dataTable) return;\n",
              "\n",
              "        const docLinkHtml = 'Like what you see? Visit the ' +\n",
              "          '<a target=\"_blank\" href=https://colab.research.google.com/notebooks/data_table.ipynb>data table notebook</a>'\n",
              "          + ' to learn more about interactive tables.';\n",
              "        element.innerHTML = '';\n",
              "        dataTable['output_type'] = 'display_data';\n",
              "        await google.colab.output.renderOutput(dataTable, element);\n",
              "        const docLink = document.createElement('div');\n",
              "        docLink.innerHTML = docLinkHtml;\n",
              "        element.appendChild(docLink);\n",
              "      }\n",
              "    </script>\n",
              "  </div>\n",
              "\n",
              "\n",
              "    </div>\n",
              "  </div>\n"
            ],
            "application/vnd.google.colaboratory.intrinsic+json": {
              "type": "dataframe",
              "summary": "{\n  \"name\": \"gdf[df\",\n  \"rows\": 1,\n  \"fields\": [\n    {\n      \"column\": \"id\",\n      \"properties\": {\n        \"dtype\": \"number\",\n        \"std\": null,\n        \"min\": 74,\n        \"max\": 74,\n        \"num_unique_values\": 1,\n        \"samples\": [\n          74\n        ],\n        \"semantic_type\": \"\",\n        \"description\": \"\"\n      }\n    },\n    {\n      \"column\": \"city\",\n      \"properties\": {\n        \"dtype\": \"string\",\n        \"num_unique_values\": 1,\n        \"samples\": [\n          \"Amundsen\\u0096Scott South Pole Station\"\n        ],\n        \"semantic_type\": \"\",\n        \"description\": \"\"\n      }\n    },\n    {\n      \"column\": \"country\",\n      \"properties\": {\n        \"dtype\": \"string\",\n        \"num_unique_values\": 1,\n        \"samples\": [\n          \"ATA\"\n        ],\n        \"semantic_type\": \"\",\n        \"description\": \"\"\n      }\n    },\n    {\n      \"column\": \"lat\",\n      \"properties\": {\n        \"dtype\": \"number\",\n        \"std\": null,\n        \"min\": -89.98289,\n        \"max\": -89.98289,\n        \"num_unique_values\": 1,\n        \"samples\": [\n          -89.98289\n        ],\n        \"semantic_type\": \"\",\n        \"description\": \"\"\n      }\n    },\n    {\n      \"column\": \"lon\",\n      \"properties\": {\n        \"dtype\": \"number\",\n        \"std\": null,\n        \"min\": 139.26699,\n        \"max\": 139.26699,\n        \"num_unique_values\": 1,\n        \"samples\": [\n          139.26699\n        ],\n        \"semantic_type\": \"\",\n        \"description\": \"\"\n      }\n    },\n    {\n      \"column\": \"population\",\n      \"properties\": {\n        \"dtype\": \"number\",\n        \"std\": null,\n        \"min\": 200,\n        \"max\": 200,\n        \"num_unique_values\": 1,\n        \"samples\": [\n          200\n        ],\n        \"semantic_type\": \"\",\n        \"description\": \"\"\n      }\n    },\n    {\n      \"column\": \"elevation\",\n      \"properties\": {\n        \"dtype\": \"number\",\n        \"std\": null,\n        \"min\": null,\n        \"max\": null,\n        \"num_unique_values\": 0,\n        \"samples\": [],\n        \"semantic_type\": \"\",\n        \"description\": \"\"\n      }\n    },\n    {\n      \"column\": \"geometry\",\n      \"properties\": {\n        \"dtype\": \"geometry\",\n        \"num_unique_values\": 1,\n        \"samples\": [],\n        \"semantic_type\": \"\",\n        \"description\": \"\"\n      }\n    },\n    {\n      \"column\": \"proximity_to_coast_km\",\n      \"properties\": {\n        \"dtype\": \"number\",\n        \"std\": null,\n        \"min\": 2488.9675971624656,\n        \"max\": 2488.9675971624656,\n        \"num_unique_values\": 1,\n        \"samples\": [],\n        \"semantic_type\": \"\",\n        \"description\": \"\"\n      }\n    },\n    {\n      \"column\": \"proximity_to_freshwater_km\",\n      \"properties\": {\n        \"dtype\": \"number\",\n        \"std\": null,\n        \"min\": 11624.024281433269,\n        \"max\": 11624.024281433269,\n        \"num_unique_values\": 1,\n        \"samples\": [],\n        \"semantic_type\": \"\",\n        \"description\": \"\"\n      }\n    },\n    {\n      \"column\": \"proximity_to_glacier_km\",\n      \"properties\": {\n        \"dtype\": \"number\",\n        \"std\": null,\n        \"min\": 0.0,\n        \"max\": 0.0,\n        \"num_unique_values\": 1,\n        \"samples\": [],\n        \"semantic_type\": \"\",\n        \"description\": \"\"\n      }\n    },\n    {\n      \"column\": \"distance_temp\",\n      \"properties\": {\n        \"dtype\": \"number\",\n        \"std\": null,\n        \"min\": 0.0,\n        \"max\": 0.0,\n        \"num_unique_values\": 1,\n        \"samples\": [],\n        \"semantic_type\": \"\",\n        \"description\": \"\"\n      }\n    }\n  ]\n}"
            }
          },
          "metadata": {},
          "execution_count": 87
        }
      ]
    },
    {
      "cell_type": "code",
      "source": [
        "\n",
        "target_point = gdf[gdf.isnull().any(axis=1)].geometry.iloc[0]\n",
        "\n",
        "# Calculate distances to all other points\n",
        "gdf['distance_temp'] = gpd.GeoSeries(gdf.geometry, crs=4326).distance(target_point)\n",
        "\n",
        "# Exclude the point itself and find the nearest\n",
        "closest = gdf['distance_temp'][gdf['distance_temp'] > 0].sort_values().idxmin()\n",
        "\n",
        "print(gdf.iloc[closest]['city'])\n",
        "target_elevantion = gdf.iloc[closest]['elevation']\n",
        "print(target_elevantion)\n",
        "gdf.loc[df.isnull().any(axis=1), 'elevation'] = gdf.iloc[closest]['elevation']"
      ],
      "metadata": {
        "colab": {
          "base_uri": "https://localhost:8080/"
        },
        "id": "mQyaQmdukflN",
        "outputId": "c83cd545-80dd-40a3-e7ca-80dd3996fed0"
      },
      "execution_count": 99,
      "outputs": [
        {
          "output_type": "stream",
          "name": "stdout",
          "text": [
            "Concordia Research Station\n",
            "3231.0\n"
          ]
        },
        {
          "output_type": "stream",
          "name": "stderr",
          "text": [
            "<ipython-input-99-c4f3a61ba463>:4: UserWarning: Geometry is in a geographic CRS. Results from 'distance' are likely incorrect. Use 'GeoSeries.to_crs()' to re-project geometries to a projected CRS before this operation.\n",
            "\n",
            "  gdf['distance_temp'] = gpd.GeoSeries(gdf.geometry, crs=4326).distance(target_point)\n"
          ]
        }
      ]
    },
    {
      "cell_type": "code",
      "source": [
        "gdf[gdf.isnull().any(axis=1)][:1]\n",
        "gdf.drop(columns=['distance_temp'], inplace=True)"
      ],
      "metadata": {
        "id": "Vo-Bvrnci5Z8"
      },
      "execution_count": 105,
      "outputs": []
    },
    {
      "cell_type": "code",
      "source": [
        "print(gdf[['city', 'population', 'elevation', 'geometry', 'country', 'proximity_to_coast_km',\n",
        "           'proximity_to_freshwater_km', 'proximity_to_glacier_km']])\n",
        "gdf.to_csv('city_spatial.csv', index=True)"
      ],
      "metadata": {
        "colab": {
          "base_uri": "https://localhost:8080/"
        },
        "id": "Uxn_18jTMSxl",
        "outputId": "be6306de-397e-412c-88c8-205782f9bb0f"
      },
      "execution_count": 106,
      "outputs": [
        {
          "output_type": "stream",
          "name": "stdout",
          "text": [
            "                city  population  elevation                     geometry  \\\n",
            "0              Bombo       75000     1191.0       POINT (32.5333 0.5833)   \n",
            "1        Fort Portal       42670     1517.0         POINT (30.275 0.671)   \n",
            "2            Potenza       69060      714.0        POINT (15.799 40.642)   \n",
            "3         Campobasso       50762      768.0        POINT (14.656 41.563)   \n",
            "4              Aosta       34062      575.0         POINT (7.315 45.737)   \n",
            "...              ...         ...        ...                          ...   \n",
            "1244  Rio de Janeiro    11748000       36.0  POINT (-43.22502 -22.92502)   \n",
            "1245       Sao Paulo    18845000      729.0  POINT (-46.62502 -23.55868)   \n",
            "1246          Sydney     4630000        7.0  POINT (151.18518 -33.92001)   \n",
            "1247       Singapore     5183700       13.0    POINT (103.85582 1.29303)   \n",
            "1248       Hong Kong     7206000       36.0   POINT (114.18501 22.30498)   \n",
            "\n",
            "     country  proximity_to_coast_km  proximity_to_freshwater_km  \\\n",
            "0        UGA             926.778069                   63.430629   \n",
            "1        UGA            1155.114346                  207.886184   \n",
            "2        ITA              78.562263                  648.336311   \n",
            "3        ITA              66.932609                  658.349401   \n",
            "4        ITA             207.880408                  275.357418   \n",
            "...      ...                    ...                         ...   \n",
            "1244     BRA               8.560741                 1550.456765   \n",
            "1245     BRA              61.260797                 1168.320344   \n",
            "1246     AUS               8.158523                 6921.944016   \n",
            "1247     SGP               3.876094                  945.446018   \n",
            "1248     CHN               5.173894                  803.136528   \n",
            "\n",
            "      proximity_to_glacier_km  \n",
            "0                 7669.969772  \n",
            "1                 7688.633056  \n",
            "2                 5421.587607  \n",
            "3                 5258.750499  \n",
            "4                 4330.422575  \n",
            "...                       ...  \n",
            "1244              4762.049574  \n",
            "1245              4579.568195  \n",
            "1246              3716.631512  \n",
            "1247              7421.920329  \n",
            "1248              9788.390160  \n",
            "\n",
            "[1249 rows x 8 columns]\n"
          ]
        }
      ]
    },
    {
      "cell_type": "code",
      "source": [
        "gdf_2 = gpd.read_file(r'city_spatial.csv')\n",
        "gdf_2.head()"
      ],
      "metadata": {
        "colab": {
          "base_uri": "https://localhost:8080/",
          "height": 206
        },
        "id": "jbEuqDY2OQiU",
        "outputId": "e0e2944e-0729-42b9-b3ec-03b0d5731398"
      },
      "execution_count": 107,
      "outputs": [
        {
          "output_type": "execute_result",
          "data": {
            "text/plain": [
              "  field_1 id         city country     lat      lon population elevation  \\\n",
              "0       0  1        Bombo     UGA  0.5833  32.5333      75000    1191.0   \n",
              "1       1  2  Fort Portal     UGA   0.671   30.275      42670    1517.0   \n",
              "2       2  3      Potenza     ITA  40.642   15.799      69060     714.0   \n",
              "3       3  4   Campobasso     ITA  41.563   14.656      50762     768.0   \n",
              "4       4  5        Aosta     ITA  45.737    7.315      34062     575.0   \n",
              "\n",
              "                 geometry proximity_to_coast_km proximity_to_freshwater_km  \\\n",
              "0  POINT (32.5333 0.5833)     926.7780685420897          63.43062890564867   \n",
              "1    POINT (30.275 0.671)    1155.1143462899752          207.8861842073783   \n",
              "2   POINT (15.799 40.642)     78.56226252073802          648.3363106982638   \n",
              "3   POINT (14.656 41.563)     66.93260942064187          658.3494009496502   \n",
              "4    POINT (7.315 45.737)    207.88040818840935         275.35741813559787   \n",
              "\n",
              "  proximity_to_glacier_km  \n",
              "0       7669.969771931842  \n",
              "1       7688.633056299894  \n",
              "2       5421.587607284402  \n",
              "3       5258.750499041271  \n",
              "4       4330.422574549758  "
            ],
            "text/html": [
              "\n",
              "  <div id=\"df-541977ad-8cbb-4353-ac06-1744a4613f14\" class=\"colab-df-container\">\n",
              "    <div>\n",
              "<style scoped>\n",
              "    .dataframe tbody tr th:only-of-type {\n",
              "        vertical-align: middle;\n",
              "    }\n",
              "\n",
              "    .dataframe tbody tr th {\n",
              "        vertical-align: top;\n",
              "    }\n",
              "\n",
              "    .dataframe thead th {\n",
              "        text-align: right;\n",
              "    }\n",
              "</style>\n",
              "<table border=\"1\" class=\"dataframe\">\n",
              "  <thead>\n",
              "    <tr style=\"text-align: right;\">\n",
              "      <th></th>\n",
              "      <th>field_1</th>\n",
              "      <th>id</th>\n",
              "      <th>city</th>\n",
              "      <th>country</th>\n",
              "      <th>lat</th>\n",
              "      <th>lon</th>\n",
              "      <th>population</th>\n",
              "      <th>elevation</th>\n",
              "      <th>geometry</th>\n",
              "      <th>proximity_to_coast_km</th>\n",
              "      <th>proximity_to_freshwater_km</th>\n",
              "      <th>proximity_to_glacier_km</th>\n",
              "    </tr>\n",
              "  </thead>\n",
              "  <tbody>\n",
              "    <tr>\n",
              "      <th>0</th>\n",
              "      <td>0</td>\n",
              "      <td>1</td>\n",
              "      <td>Bombo</td>\n",
              "      <td>UGA</td>\n",
              "      <td>0.5833</td>\n",
              "      <td>32.5333</td>\n",
              "      <td>75000</td>\n",
              "      <td>1191.0</td>\n",
              "      <td>POINT (32.5333 0.5833)</td>\n",
              "      <td>926.7780685420897</td>\n",
              "      <td>63.43062890564867</td>\n",
              "      <td>7669.969771931842</td>\n",
              "    </tr>\n",
              "    <tr>\n",
              "      <th>1</th>\n",
              "      <td>1</td>\n",
              "      <td>2</td>\n",
              "      <td>Fort Portal</td>\n",
              "      <td>UGA</td>\n",
              "      <td>0.671</td>\n",
              "      <td>30.275</td>\n",
              "      <td>42670</td>\n",
              "      <td>1517.0</td>\n",
              "      <td>POINT (30.275 0.671)</td>\n",
              "      <td>1155.1143462899752</td>\n",
              "      <td>207.8861842073783</td>\n",
              "      <td>7688.633056299894</td>\n",
              "    </tr>\n",
              "    <tr>\n",
              "      <th>2</th>\n",
              "      <td>2</td>\n",
              "      <td>3</td>\n",
              "      <td>Potenza</td>\n",
              "      <td>ITA</td>\n",
              "      <td>40.642</td>\n",
              "      <td>15.799</td>\n",
              "      <td>69060</td>\n",
              "      <td>714.0</td>\n",
              "      <td>POINT (15.799 40.642)</td>\n",
              "      <td>78.56226252073802</td>\n",
              "      <td>648.3363106982638</td>\n",
              "      <td>5421.587607284402</td>\n",
              "    </tr>\n",
              "    <tr>\n",
              "      <th>3</th>\n",
              "      <td>3</td>\n",
              "      <td>4</td>\n",
              "      <td>Campobasso</td>\n",
              "      <td>ITA</td>\n",
              "      <td>41.563</td>\n",
              "      <td>14.656</td>\n",
              "      <td>50762</td>\n",
              "      <td>768.0</td>\n",
              "      <td>POINT (14.656 41.563)</td>\n",
              "      <td>66.93260942064187</td>\n",
              "      <td>658.3494009496502</td>\n",
              "      <td>5258.750499041271</td>\n",
              "    </tr>\n",
              "    <tr>\n",
              "      <th>4</th>\n",
              "      <td>4</td>\n",
              "      <td>5</td>\n",
              "      <td>Aosta</td>\n",
              "      <td>ITA</td>\n",
              "      <td>45.737</td>\n",
              "      <td>7.315</td>\n",
              "      <td>34062</td>\n",
              "      <td>575.0</td>\n",
              "      <td>POINT (7.315 45.737)</td>\n",
              "      <td>207.88040818840935</td>\n",
              "      <td>275.35741813559787</td>\n",
              "      <td>4330.422574549758</td>\n",
              "    </tr>\n",
              "  </tbody>\n",
              "</table>\n",
              "</div>\n",
              "    <div class=\"colab-df-buttons\">\n",
              "\n",
              "  <div class=\"colab-df-container\">\n",
              "    <button class=\"colab-df-convert\" onclick=\"convertToInteractive('df-541977ad-8cbb-4353-ac06-1744a4613f14')\"\n",
              "            title=\"Convert this dataframe to an interactive table.\"\n",
              "            style=\"display:none;\">\n",
              "\n",
              "  <svg xmlns=\"http://www.w3.org/2000/svg\" height=\"24px\" viewBox=\"0 -960 960 960\">\n",
              "    <path d=\"M120-120v-720h720v720H120Zm60-500h600v-160H180v160Zm220 220h160v-160H400v160Zm0 220h160v-160H400v160ZM180-400h160v-160H180v160Zm440 0h160v-160H620v160ZM180-180h160v-160H180v160Zm440 0h160v-160H620v160Z\"/>\n",
              "  </svg>\n",
              "    </button>\n",
              "\n",
              "  <style>\n",
              "    .colab-df-container {\n",
              "      display:flex;\n",
              "      gap: 12px;\n",
              "    }\n",
              "\n",
              "    .colab-df-convert {\n",
              "      background-color: #E8F0FE;\n",
              "      border: none;\n",
              "      border-radius: 50%;\n",
              "      cursor: pointer;\n",
              "      display: none;\n",
              "      fill: #1967D2;\n",
              "      height: 32px;\n",
              "      padding: 0 0 0 0;\n",
              "      width: 32px;\n",
              "    }\n",
              "\n",
              "    .colab-df-convert:hover {\n",
              "      background-color: #E2EBFA;\n",
              "      box-shadow: 0px 1px 2px rgba(60, 64, 67, 0.3), 0px 1px 3px 1px rgba(60, 64, 67, 0.15);\n",
              "      fill: #174EA6;\n",
              "    }\n",
              "\n",
              "    .colab-df-buttons div {\n",
              "      margin-bottom: 4px;\n",
              "    }\n",
              "\n",
              "    [theme=dark] .colab-df-convert {\n",
              "      background-color: #3B4455;\n",
              "      fill: #D2E3FC;\n",
              "    }\n",
              "\n",
              "    [theme=dark] .colab-df-convert:hover {\n",
              "      background-color: #434B5C;\n",
              "      box-shadow: 0px 1px 3px 1px rgba(0, 0, 0, 0.15);\n",
              "      filter: drop-shadow(0px 1px 2px rgba(0, 0, 0, 0.3));\n",
              "      fill: #FFFFFF;\n",
              "    }\n",
              "  </style>\n",
              "\n",
              "    <script>\n",
              "      const buttonEl =\n",
              "        document.querySelector('#df-541977ad-8cbb-4353-ac06-1744a4613f14 button.colab-df-convert');\n",
              "      buttonEl.style.display =\n",
              "        google.colab.kernel.accessAllowed ? 'block' : 'none';\n",
              "\n",
              "      async function convertToInteractive(key) {\n",
              "        const element = document.querySelector('#df-541977ad-8cbb-4353-ac06-1744a4613f14');\n",
              "        const dataTable =\n",
              "          await google.colab.kernel.invokeFunction('convertToInteractive',\n",
              "                                                    [key], {});\n",
              "        if (!dataTable) return;\n",
              "\n",
              "        const docLinkHtml = 'Like what you see? Visit the ' +\n",
              "          '<a target=\"_blank\" href=https://colab.research.google.com/notebooks/data_table.ipynb>data table notebook</a>'\n",
              "          + ' to learn more about interactive tables.';\n",
              "        element.innerHTML = '';\n",
              "        dataTable['output_type'] = 'display_data';\n",
              "        await google.colab.output.renderOutput(dataTable, element);\n",
              "        const docLink = document.createElement('div');\n",
              "        docLink.innerHTML = docLinkHtml;\n",
              "        element.appendChild(docLink);\n",
              "      }\n",
              "    </script>\n",
              "  </div>\n",
              "\n",
              "\n",
              "    <div id=\"df-07df2f34-f819-49fa-9d4b-ada5e81e1eae\">\n",
              "      <button class=\"colab-df-quickchart\" onclick=\"quickchart('df-07df2f34-f819-49fa-9d4b-ada5e81e1eae')\"\n",
              "                title=\"Suggest charts\"\n",
              "                style=\"display:none;\">\n",
              "\n",
              "<svg xmlns=\"http://www.w3.org/2000/svg\" height=\"24px\"viewBox=\"0 0 24 24\"\n",
              "     width=\"24px\">\n",
              "    <g>\n",
              "        <path d=\"M19 3H5c-1.1 0-2 .9-2 2v14c0 1.1.9 2 2 2h14c1.1 0 2-.9 2-2V5c0-1.1-.9-2-2-2zM9 17H7v-7h2v7zm4 0h-2V7h2v10zm4 0h-2v-4h2v4z\"/>\n",
              "    </g>\n",
              "</svg>\n",
              "      </button>\n",
              "\n",
              "<style>\n",
              "  .colab-df-quickchart {\n",
              "      --bg-color: #E8F0FE;\n",
              "      --fill-color: #1967D2;\n",
              "      --hover-bg-color: #E2EBFA;\n",
              "      --hover-fill-color: #174EA6;\n",
              "      --disabled-fill-color: #AAA;\n",
              "      --disabled-bg-color: #DDD;\n",
              "  }\n",
              "\n",
              "  [theme=dark] .colab-df-quickchart {\n",
              "      --bg-color: #3B4455;\n",
              "      --fill-color: #D2E3FC;\n",
              "      --hover-bg-color: #434B5C;\n",
              "      --hover-fill-color: #FFFFFF;\n",
              "      --disabled-bg-color: #3B4455;\n",
              "      --disabled-fill-color: #666;\n",
              "  }\n",
              "\n",
              "  .colab-df-quickchart {\n",
              "    background-color: var(--bg-color);\n",
              "    border: none;\n",
              "    border-radius: 50%;\n",
              "    cursor: pointer;\n",
              "    display: none;\n",
              "    fill: var(--fill-color);\n",
              "    height: 32px;\n",
              "    padding: 0;\n",
              "    width: 32px;\n",
              "  }\n",
              "\n",
              "  .colab-df-quickchart:hover {\n",
              "    background-color: var(--hover-bg-color);\n",
              "    box-shadow: 0 1px 2px rgba(60, 64, 67, 0.3), 0 1px 3px 1px rgba(60, 64, 67, 0.15);\n",
              "    fill: var(--button-hover-fill-color);\n",
              "  }\n",
              "\n",
              "  .colab-df-quickchart-complete:disabled,\n",
              "  .colab-df-quickchart-complete:disabled:hover {\n",
              "    background-color: var(--disabled-bg-color);\n",
              "    fill: var(--disabled-fill-color);\n",
              "    box-shadow: none;\n",
              "  }\n",
              "\n",
              "  .colab-df-spinner {\n",
              "    border: 2px solid var(--fill-color);\n",
              "    border-color: transparent;\n",
              "    border-bottom-color: var(--fill-color);\n",
              "    animation:\n",
              "      spin 1s steps(1) infinite;\n",
              "  }\n",
              "\n",
              "  @keyframes spin {\n",
              "    0% {\n",
              "      border-color: transparent;\n",
              "      border-bottom-color: var(--fill-color);\n",
              "      border-left-color: var(--fill-color);\n",
              "    }\n",
              "    20% {\n",
              "      border-color: transparent;\n",
              "      border-left-color: var(--fill-color);\n",
              "      border-top-color: var(--fill-color);\n",
              "    }\n",
              "    30% {\n",
              "      border-color: transparent;\n",
              "      border-left-color: var(--fill-color);\n",
              "      border-top-color: var(--fill-color);\n",
              "      border-right-color: var(--fill-color);\n",
              "    }\n",
              "    40% {\n",
              "      border-color: transparent;\n",
              "      border-right-color: var(--fill-color);\n",
              "      border-top-color: var(--fill-color);\n",
              "    }\n",
              "    60% {\n",
              "      border-color: transparent;\n",
              "      border-right-color: var(--fill-color);\n",
              "    }\n",
              "    80% {\n",
              "      border-color: transparent;\n",
              "      border-right-color: var(--fill-color);\n",
              "      border-bottom-color: var(--fill-color);\n",
              "    }\n",
              "    90% {\n",
              "      border-color: transparent;\n",
              "      border-bottom-color: var(--fill-color);\n",
              "    }\n",
              "  }\n",
              "</style>\n",
              "\n",
              "      <script>\n",
              "        async function quickchart(key) {\n",
              "          const quickchartButtonEl =\n",
              "            document.querySelector('#' + key + ' button');\n",
              "          quickchartButtonEl.disabled = true;  // To prevent multiple clicks.\n",
              "          quickchartButtonEl.classList.add('colab-df-spinner');\n",
              "          try {\n",
              "            const charts = await google.colab.kernel.invokeFunction(\n",
              "                'suggestCharts', [key], {});\n",
              "          } catch (error) {\n",
              "            console.error('Error during call to suggestCharts:', error);\n",
              "          }\n",
              "          quickchartButtonEl.classList.remove('colab-df-spinner');\n",
              "          quickchartButtonEl.classList.add('colab-df-quickchart-complete');\n",
              "        }\n",
              "        (() => {\n",
              "          let quickchartButtonEl =\n",
              "            document.querySelector('#df-07df2f34-f819-49fa-9d4b-ada5e81e1eae button');\n",
              "          quickchartButtonEl.style.display =\n",
              "            google.colab.kernel.accessAllowed ? 'block' : 'none';\n",
              "        })();\n",
              "      </script>\n",
              "    </div>\n",
              "\n",
              "    </div>\n",
              "  </div>\n"
            ],
            "application/vnd.google.colaboratory.intrinsic+json": {
              "type": "dataframe",
              "variable_name": "gdf_2",
              "summary": "{\n  \"name\": \"gdf_2\",\n  \"rows\": 1249,\n  \"fields\": [\n    {\n      \"column\": \"field_1\",\n      \"properties\": {\n        \"dtype\": \"string\",\n        \"num_unique_values\": 1249,\n        \"samples\": [\n          \"679\",\n          \"1050\",\n          \"901\"\n        ],\n        \"semantic_type\": \"\",\n        \"description\": \"\"\n      }\n    },\n    {\n      \"column\": \"id\",\n      \"properties\": {\n        \"dtype\": \"string\",\n        \"num_unique_values\": 1249,\n        \"samples\": [\n          \"680\",\n          \"1051\",\n          \"902\"\n        ],\n        \"semantic_type\": \"\",\n        \"description\": \"\"\n      }\n    },\n    {\n      \"column\": \"city\",\n      \"properties\": {\n        \"dtype\": \"string\",\n        \"num_unique_values\": 1228,\n        \"samples\": [\n          \"Basseterre\",\n          \"Ningbo\",\n          \"Kigali\"\n        ],\n        \"semantic_type\": \"\",\n        \"description\": \"\"\n      }\n    },\n    {\n      \"column\": \"country\",\n      \"properties\": {\n        \"dtype\": \"category\",\n        \"num_unique_values\": 200,\n        \"samples\": [\n          \"ERI\",\n          \"LIE\",\n          \"COM\"\n        ],\n        \"semantic_type\": \"\",\n        \"description\": \"\"\n      }\n    },\n    {\n      \"column\": \"lat\",\n      \"properties\": {\n        \"dtype\": \"string\",\n        \"num_unique_values\": 1228,\n        \"samples\": [\n          \"17.30203\",\n          \"29.87997\",\n          \"3.85001\"\n        ],\n        \"semantic_type\": \"\",\n        \"description\": \"\"\n      }\n    },\n    {\n      \"column\": \"lon\",\n      \"properties\": {\n        \"dtype\": \"string\",\n        \"num_unique_values\": 1239,\n        \"samples\": [\n          \"100.32937\",\n          \"-73.25001\",\n          \"45.6987\"\n        ],\n        \"semantic_type\": \"\",\n        \"description\": \"\"\n      }\n    },\n    {\n      \"column\": \"population\",\n      \"properties\": {\n        \"dtype\": \"string\",\n        \"num_unique_values\": 1185,\n        \"samples\": [\n          \"477090\",\n          \"3305\",\n          \"18845000\"\n        ],\n        \"semantic_type\": \"\",\n        \"description\": \"\"\n      }\n    },\n    {\n      \"column\": \"elevation\",\n      \"properties\": {\n        \"dtype\": \"category\",\n        \"num_unique_values\": 591,\n        \"samples\": [\n          \"731.0\",\n          \"611.0\",\n          \"763.0\"\n        ],\n        \"semantic_type\": \"\",\n        \"description\": \"\"\n      }\n    },\n    {\n      \"column\": \"geometry\",\n      \"properties\": {\n        \"dtype\": \"string\",\n        \"num_unique_values\": 1249,\n        \"samples\": [\n          \"POINT (89.56 22.83999)\",\n          \"POINT (-64.78394 32.29419)\",\n          \"POINT (-84.08405 9.93501)\"\n        ],\n        \"semantic_type\": \"\",\n        \"description\": \"\"\n      }\n    },\n    {\n      \"column\": \"proximity_to_coast_km\",\n      \"properties\": {\n        \"dtype\": \"string\",\n        \"num_unique_values\": 1249,\n        \"samples\": [\n          \"94.44713343724679\",\n          \"1185.8572949131474\",\n          \"55.334476057395584\"\n        ],\n        \"semantic_type\": \"\",\n        \"description\": \"\"\n      }\n    },\n    {\n      \"column\": \"proximity_to_freshwater_km\",\n      \"properties\": {\n        \"dtype\": \"string\",\n        \"num_unique_values\": 1249,\n        \"samples\": [\n          \"95.54403259273343\",\n          \"2744.5711396916204\",\n          \"1935.5251084447395\"\n        ],\n        \"semantic_type\": \"\",\n        \"description\": \"\"\n      }\n    },\n    {\n      \"column\": \"proximity_to_glacier_km\",\n      \"properties\": {\n        \"dtype\": \"string\",\n        \"num_unique_values\": 1237,\n        \"samples\": [\n          \"4943.979750599545\",\n          \"5579.627652657142\",\n          \"5385.856331982594\"\n        ],\n        \"semantic_type\": \"\",\n        \"description\": \"\"\n      }\n    }\n  ]\n}"
            }
          },
          "metadata": {},
          "execution_count": 107
        }
      ]
    },
    {
      "cell_type": "code",
      "source": [
        "import folium\n",
        "\n",
        "# Make an empty map\n",
        "m = folium.Map(location=[4,47], tiles=\"OpenStreetMap\", zoom_start=3, width='80%', height='600px')\n",
        "for index, row in tqdm(gdf.iterrows()):\n",
        "    folium.CircleMarker([row['geometry'].y, row['geometry'].x],\n",
        "                        popup=row['city'],\n",
        "                        radius=row['population'] / 1000000,\n",
        "                        tooltip=f\"{row['city']}<br>Population: {row['population']}\").add_to(m)\n",
        "\n",
        "m"
      ],
      "metadata": {
        "id": "kAFt-3EmNG-9"
      },
      "execution_count": null,
      "outputs": []
    }
  ]
}